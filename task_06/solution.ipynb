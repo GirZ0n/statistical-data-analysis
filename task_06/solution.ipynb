{
 "cells": [
  {
   "cell_type": "code",
   "source": [
    "from itertools import product\n",
    "from math import factorial\n",
    "from typing import Generator\n",
    "\n",
    "import numpy as np\n",
    "from scipy.stats import chi2, chi2_contingency, fisher_exact, hypergeom"
   ],
   "execution_count": 1,
   "outputs": [],
   "metadata": {
    "datalore": {
     "type": "CODE",
     "hide_input_from_viewers": false,
     "hide_output_from_viewers": false
    },
    "pycharm": {
     "name": "#%%\n"
    }
   }
  },
  {
   "cell_type": "code",
   "source": [
    "# table = np.array([\n",
    "#     [3, 4],\n",
    "#     [3, 11],\n",
    "# ])\n",
    "\n",
    "table = np.array([\n",
    "    [3, 6],\n",
    "    [3, 6],\n",
    "])"
   ],
   "execution_count": 2,
   "outputs": [],
   "metadata": {
    "datalore": {
     "type": "CODE",
     "hide_input_from_viewers": false,
     "hide_output_from_viewers": false
    },
    "pycharm": {
     "name": "#%%\n"
    }
   }
  },
  {
   "cell_type": "markdown",
   "source": [
    "## Критерий $\\chi^2$"
   ],
   "attachments": {},
   "metadata": {
    "datalore": {
     "type": "MD",
     "hide_input_from_viewers": false,
     "hide_output_from_viewers": false
    },
    "pycharm": {
     "name": "#%% md\n"
    }
   }
  },
  {
   "cell_type": "code",
   "source": [
    "def calculate_chi2_statistics(table: np.ndarray) -> float:\n",
    "    statistics = 0\n",
    "    for i, j in product(range(table.shape[0]), range(table.shape[1])):\n",
    "        statistics += table[i][j] ** 2 / (table[i].sum() * table[:, j].sum())\n",
    "    statistics -= 1\n",
    "    return table.sum() * statistics"
   ],
   "execution_count": 3,
   "outputs": [],
   "metadata": {
    "datalore": {
     "type": "CODE",
     "hide_input_from_viewers": false,
     "hide_output_from_viewers": false
    },
    "pycharm": {
     "name": "#%%\n"
    }
   }
  },
  {
   "cell_type": "code",
   "source": [
    "chi2_statistics = calculate_chi2_statistics(table)\n",
    "print(f'chi2: {chi2_statistics}')"
   ],
   "execution_count": 4,
   "outputs": [
    {
     "name": "stdout",
     "text": [
      "chi2: 0.0\n"
     ],
     "output_type": "stream"
    }
   ],
   "metadata": {
    "datalore": {
     "type": "CODE",
     "hide_input_from_viewers": false,
     "hide_output_from_viewers": false
    },
    "pycharm": {
     "name": "#%%\n"
    }
   }
  },
  {
   "cell_type": "code",
   "source": [
    "chi2_p_value = chi2.sf(chi2_statistics, 1)\n",
    "print(f'p-value: {chi2_p_value}')"
   ],
   "execution_count": 5,
   "outputs": [
    {
     "name": "stdout",
     "text": [
      "p-value: 1.0\n"
     ],
     "output_type": "stream"
    }
   ],
   "metadata": {
    "datalore": {
     "type": "CODE",
     "hide_input_from_viewers": false,
     "hide_output_from_viewers": false
    },
    "pycharm": {
     "name": "#%%\n"
    }
   }
  },
  {
   "cell_type": "code",
   "source": [
    "true_chi2_statistics, true_chi2_p_value, _, _ = chi2_contingency(table, correction=False)\n",
    "print(f'chi2 (scipy): {true_chi2_statistics}')\n",
    "print(f'p-value (scipy): {true_chi2_p_value}')"
   ],
   "execution_count": 6,
   "outputs": [
    {
     "name": "stdout",
     "text": [
      "chi2 (scipy): 0.0\n",
      "p-value (scipy): 1.0\n"
     ],
     "output_type": "stream"
    }
   ],
   "metadata": {
    "datalore": {
     "type": "CODE",
     "hide_input_from_viewers": false,
     "hide_output_from_viewers": false
    },
    "pycharm": {
     "name": "#%%\n"
    }
   }
  },
  {
   "cell_type": "code",
   "source": [
    "print(f'chi2 error: {abs(true_chi2_statistics - chi2_statistics)}')\n",
    "print(f'p-value error: {abs(true_chi2_p_value - chi2_p_value)}')"
   ],
   "execution_count": 7,
   "outputs": [
    {
     "name": "stdout",
     "text": [
      "chi2 error: 0.0\n",
      "p-value error: 0.0\n"
     ],
     "output_type": "stream"
    }
   ],
   "metadata": {
    "datalore": {
     "type": "CODE",
     "hide_input_from_viewers": false,
     "hide_output_from_viewers": false
    },
    "pycharm": {
     "name": "#%%\n"
    }
   }
  },
  {
   "cell_type": "markdown",
   "source": [
    "## Точный тест Фишера"
   ],
   "attachments": {},
   "metadata": {
    "datalore": {
     "type": "MD",
     "hide_input_from_viewers": false,
     "hide_output_from_viewers": false
    },
    "pycharm": {
     "name": "#%% md\n"
    }
   }
  },
  {
   "cell_type": "code",
   "source": [
    "# table: 2x2\n",
    "def _calculate_table_probability(table: np.ndarray) -> float:\n",
    "    table_sum = table.sum()\n",
    "\n",
    "    table = table.copy()\n",
    "    axis_sums = np.array([table.sum(axis=0), table.sum(axis=1)])\n",
    "\n",
    "    for i, j in product(range(table.shape[0]), range(table.shape[1])):\n",
    "        table[i][j] = factorial(table[i][j])\n",
    "        axis_sums[i][j] = factorial(axis_sums[i][j])\n",
    "\n",
    "    return axis_sums.prod() / (table.prod() * factorial(table_sum))\n",
    "\n",
    "\n",
    "# parent_table: 2x2\n",
    "def _generate_table(parent_table: np.ndarray) -> Generator[np.ndarray, None, None]:\n",
    "    axis_sums = np.array([parent_table.sum(axis=0), parent_table.sum(axis=1)])\n",
    "\n",
    "    for x in range(\n",
    "            max(0, axis_sums[0][0] - axis_sums[1][1]),\n",
    "            min(parent_table[0][1], parent_table[1][0]) + parent_table[0][0] + 1\n",
    "    ):\n",
    "        table = np.zeros(parent_table.shape)\n",
    "        table[0][0] = x\n",
    "        table[0][1] = axis_sums[1][0] - x\n",
    "        table[1][0] = axis_sums[0][0] - x\n",
    "        table[1][1] = axis_sums[1][1] - axis_sums[0][0] + x\n",
    "        yield table\n",
    "\n",
    "\n",
    "# table: 2x2\n",
    "def calculate_fisher_test_p_value(table: np.ndarray) -> float:\n",
    "    general_chi2 = calculate_chi2_statistics(table)\n",
    "\n",
    "    print(f'chi2(table): {general_chi2}\\n')\n",
    "\n",
    "    propabilities = []\n",
    "    for possible_table in _generate_table(table):\n",
    "        print(f'Current table:\\n{possible_table}')\n",
    "\n",
    "        chi2 = calculate_chi2_statistics(possible_table)\n",
    "        true_propability = hypergeom.pmf(\n",
    "            possible_table[0][0],\n",
    "            possible_table.sum(),\n",
    "            possible_table[0][0] + possible_table[0][1],\n",
    "            possible_table[0][0] + possible_table[1][0]\n",
    "        )\n",
    "        propability = _calculate_table_probability(possible_table)\n",
    "\n",
    "        print(f'chi2 = {chi2}, P = {true_propability}\\n')\n",
    "\n",
    "        if chi2 >= general_chi2:\n",
    "            propabilities.append(propability)\n",
    "\n",
    "    return sum(propabilities)"
   ],
   "execution_count": 8,
   "outputs": [],
   "metadata": {
    "datalore": {
     "type": "CODE",
     "hide_input_from_viewers": false,
     "hide_output_from_viewers": false
    },
    "pycharm": {
     "name": "#%%\n"
    }
   }
  },
  {
   "cell_type": "code",
   "source": [
    "fisher_p_value = calculate_fisher_test_p_value(table)\n",
    "print(f'p-value: {fisher_p_value}')"
   ],
   "execution_count": 9,
   "outputs": [
    {
     "name": "stdout",
     "text": [
      "chi2(table): 0.0\n",
      "\n",
      "Current table:\n",
      "[[0. 9.]\n",
      " [6. 3.]]\n",
      "chi2 = 8.999999999999996, P = 0.004524886877828052\n",
      "\n",
      "Current table:\n",
      "[[1. 8.]\n",
      " [5. 4.]]\n",
      "chi2 = 3.999999999999998, P = 0.061085972850678835\n",
      "\n",
      "Current table:\n",
      "[[2. 7.]\n",
      " [4. 5.]]\n",
      "chi2 = 1.0000000000000004, P = 0.24434389140271537\n",
      "\n",
      "Current table:\n",
      "[[3. 6.]\n",
      " [3. 6.]]\n",
      "chi2 = 0.0, P = 0.38009049773755743\n",
      "\n",
      "Current table:\n",
      "[[4. 5.]\n",
      " [2. 7.]]\n",
      "chi2 = 1.0000000000000004, P = 0.24434389140271537\n",
      "\n",
      "Current table:\n",
      "[[5. 4.]\n",
      " [1. 8.]]\n",
      "chi2 = 4.000000000000002, P = 0.061085972850678835\n",
      "\n",
      "Current table:\n",
      "[[6. 3.]\n",
      " [0. 9.]]\n",
      "chi2 = 9.0, P = 0.00452488687782806\n",
      "\n",
      "p-value: 1.0\n"
     ],
     "output_type": "stream"
    }
   ],
   "metadata": {
    "datalore": {
     "type": "CODE",
     "hide_input_from_viewers": false,
     "hide_output_from_viewers": false
    },
    "pycharm": {
     "name": "#%%\n"
    }
   }
  },
  {
   "cell_type": "code",
   "source": [
    "_, true_fisher_p_value = fisher_exact(table)\n",
    "print(f'p-value (scipy): {true_fisher_p_value}')"
   ],
   "execution_count": 10,
   "outputs": [
    {
     "name": "stdout",
     "text": [
      "p-value (scipy): 1.0\n"
     ],
     "output_type": "stream"
    }
   ],
   "metadata": {
    "datalore": {
     "type": "CODE",
     "hide_input_from_viewers": false,
     "hide_output_from_viewers": false
    },
    "pycharm": {
     "name": "#%%\n"
    }
   }
  },
  {
   "cell_type": "code",
   "source": [
    "print(f'p-value error: {abs(true_fisher_p_value - fisher_p_value)}')"
   ],
   "execution_count": 11,
   "outputs": [
    {
     "name": "stdout",
     "text": [
      "p-value error: 0.0\n"
     ],
     "output_type": "stream"
    }
   ],
   "metadata": {
    "datalore": {
     "type": "CODE",
     "hide_input_from_viewers": false,
     "hide_output_from_viewers": false
    },
    "pycharm": {
     "name": "#%%\n"
    }
   }
  }
 ],
 "metadata": {
  "datalore": {
   "version": 1,
   "computation_mode": "JUPYTER",
   "package_manager": "pip",
   "base_environment": "default",
   "packages": []
  }
 },
 "nbformat": 4,
 "nbformat_minor": 4
}