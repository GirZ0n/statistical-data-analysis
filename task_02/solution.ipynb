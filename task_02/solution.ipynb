{
 "cells": [
  {
   "cell_type": "markdown",
   "source": [
    "# Utils"
   ],
   "attachments": {},
   "metadata": {
    "datalore": {
     "type": "MD",
     "hide_input_from_viewers": false,
     "hide_output_from_viewers": false,
     "sheet_delimiter": true
    },
    "pycharm": {
     "name": "#%% md\n"
    }
   }
  },
  {
   "cell_type": "code",
   "source": [
    "import pandas as pd\n",
    "import numpy as np\n",
    "from scipy.stats import f\n",
    "import plotly.express as px"
   ],
   "execution_count": 1,
   "outputs": [],
   "metadata": {
    "datalore": {
     "type": "CODE",
     "hide_input_from_viewers": false,
     "hide_output_from_viewers": false
    },
    "pycharm": {
     "name": "#%%\n"
    }
   }
  },
  {
   "cell_type": "code",
   "source": [
    "def calculate_mean(df: pd.DataFrame) -> np.ndarray:\n",
    "    return df.sum().to_numpy() / len(df)"
   ],
   "execution_count": 2,
   "outputs": [],
   "metadata": {
    "datalore": {
     "type": "CODE",
     "hide_input_from_viewers": false,
     "hide_output_from_viewers": false
    },
    "pycharm": {
     "name": "#%%\n"
    }
   }
  },
  {
   "cell_type": "code",
   "source": [
    "def calculate_cov_matrix(df: pd.DataFrame) -> np.ndarray:\n",
    "    centered = df - calculate_mean(df)\n",
    "    return centered.apply(lambda row: np.outer(row, row), axis=1).sum() / (len(df) - 1)"
   ],
   "execution_count": 3,
   "outputs": [],
   "metadata": {
    "datalore": {
     "type": "CODE",
     "hide_input_from_viewers": false,
     "hide_output_from_viewers": false
    },
    "pycharm": {
     "name": "#%%\n"
    }
   }
  },
  {
   "cell_type": "code",
   "source": [
    "def calculate_mahalanobis_square_distance(x: np.ndarray, df: pd.DataFrame) -> np.float64:\n",
    "    d = x - calculate_mean(df)\n",
    "    cov_matrix = calculate_cov_matrix(df)\n",
    "    return d.dot(np.linalg.inv(cov_matrix).dot(d))"
   ],
   "execution_count": 4,
   "outputs": [],
   "metadata": {
    "datalore": {
     "type": "CODE",
     "hide_input_from_viewers": false,
     "hide_output_from_viewers": false
    },
    "pycharm": {
     "name": "#%%\n"
    }
   }
  },
  {
   "cell_type": "code",
   "source": [
    "def calculate_statistics(x: np.ndarray, df: pd.DataFrame) -> np.float64:\n",
    "    n = len(df)\n",
    "    p = len(df.columns)\n",
    "    return ((n - p) * n) / ((n ** 2 - 1) * p) * calculate_mahalanobis_square_distance(x, df)"
   ],
   "execution_count": 5,
   "outputs": [],
   "metadata": {
    "datalore": {
     "type": "CODE",
     "hide_input_from_viewers": false,
     "hide_output_from_viewers": false
    },
    "pycharm": {
     "name": "#%%\n"
    }
   }
  },
  {
   "cell_type": "code",
   "source": [
    "def calculate_p_value(index: int, df: pd.DataFrame) -> np.float64:\n",
    "    x = df.loc[index].to_numpy()\n",
    "    reduced_df = df.drop([index])\n",
    "\n",
    "    statistics = calculate_statistics(x, reduced_df)\n",
    "\n",
    "    n = len(reduced_df)\n",
    "    p = len(reduced_df.columns)\n",
    "\n",
    "    dfn, dfd = p, n - p\n",
    "\n",
    "    return 1 - f.cdf(statistics, dfn=dfn, dfd=dfd)"
   ],
   "execution_count": 6,
   "outputs": [],
   "metadata": {
    "datalore": {
     "type": "CODE",
     "hide_input_from_viewers": false,
     "hide_output_from_viewers": false
    },
    "pycharm": {
     "name": "#%%\n"
    }
   }
  },
  {
   "cell_type": "code",
   "source": [
    "def mark_outliers(df: pd.DataFrame, alpha: float = 0.01) -> None:\n",
    "    while True:\n",
    "        filtered_df = df[~df['is_outlier']]\n",
    "        filtered_df = filtered_df.drop(columns=['is_outlier'])\n",
    "        p_values = filtered_df.apply(lambda row: calculate_p_value(row.name, filtered_df), axis=1)\n",
    "\n",
    "        if p_values.min() >= alpha:\n",
    "            break\n",
    "\n",
    "        print(f'{p_values.idxmin()}: {df.loc[p_values.idxmin()].drop(\"is_outlier\").to_numpy()}')\n",
    "        df.loc[p_values.idxmin(), 'is_outlier'] = True"
   ],
   "execution_count": 7,
   "outputs": [],
   "metadata": {
    "datalore": {
     "type": "CODE",
     "hide_input_from_viewers": false,
     "hide_output_from_viewers": false
    },
    "pycharm": {
     "name": "#%%\n"
    }
   }
  },
  {
   "cell_type": "markdown",
   "source": [
    "# Outliers analysis"
   ],
   "attachments": {},
   "metadata": {
    "datalore": {
     "type": "MD",
     "hide_input_from_viewers": false,
     "hide_output_from_viewers": false,
     "sheet_delimiter": true
    },
    "pycharm": {
     "name": "#%% md\n"
    }
   }
  },
  {
   "cell_type": "code",
   "source": [
    "df = pd.read_excel('addicts0.xls', sheet_name=1)\n",
    "necessary_columns = ['asi1_med', 'asi2_emp', 'asi4_dr']\n",
    "df = df[necessary_columns]\n",
    "df.fillna(df.mean(), inplace=True)\n",
    "df"
   ],
   "execution_count": 8,
   "outputs": [
    {
     "data": {
      "text/html": [
       "<div>\n",
       "<style scoped>\n",
       "    .dataframe tbody tr th:only-of-type {\n",
       "        vertical-align: middle;\n",
       "    }\n",
       "\n",
       "    .dataframe tbody tr th {\n",
       "        vertical-align: top;\n",
       "    }\n",
       "\n",
       "    .dataframe thead th {\n",
       "        text-align: right;\n",
       "    }\n",
       "</style>\n",
       "<table border=\"1\" class=\"dataframe\">\n",
       "  <thead>\n",
       "    <tr style=\"text-align: right;\">\n",
       "      <th></th>\n",
       "      <th>asi1_med</th>\n",
       "      <th>asi2_emp</th>\n",
       "      <th>asi4_dr</th>\n",
       "    </tr>\n",
       "  </thead>\n",
       "  <tbody>\n",
       "    <tr>\n",
       "      <th>0</th>\n",
       "      <td>0.19</td>\n",
       "      <td>0.70</td>\n",
       "      <td>0.30</td>\n",
       "    </tr>\n",
       "    <tr>\n",
       "      <th>1</th>\n",
       "      <td>0.44</td>\n",
       "      <td>0.23</td>\n",
       "      <td>0.27</td>\n",
       "    </tr>\n",
       "    <tr>\n",
       "      <th>2</th>\n",
       "      <td>0.50</td>\n",
       "      <td>1.00</td>\n",
       "      <td>0.30</td>\n",
       "    </tr>\n",
       "    <tr>\n",
       "      <th>3</th>\n",
       "      <td>0.00</td>\n",
       "      <td>0.80</td>\n",
       "      <td>0.26</td>\n",
       "    </tr>\n",
       "    <tr>\n",
       "      <th>4</th>\n",
       "      <td>0.00</td>\n",
       "      <td>0.75</td>\n",
       "      <td>0.23</td>\n",
       "    </tr>\n",
       "    <tr>\n",
       "      <th>...</th>\n",
       "      <td>...</td>\n",
       "      <td>...</td>\n",
       "      <td>...</td>\n",
       "    </tr>\n",
       "    <tr>\n",
       "      <th>275</th>\n",
       "      <td>0.10</td>\n",
       "      <td>0.59</td>\n",
       "      <td>0.25</td>\n",
       "    </tr>\n",
       "    <tr>\n",
       "      <th>276</th>\n",
       "      <td>0.00</td>\n",
       "      <td>1.00</td>\n",
       "      <td>0.25</td>\n",
       "    </tr>\n",
       "    <tr>\n",
       "      <th>277</th>\n",
       "      <td>0.00</td>\n",
       "      <td>1.00</td>\n",
       "      <td>0.21</td>\n",
       "    </tr>\n",
       "    <tr>\n",
       "      <th>278</th>\n",
       "      <td>0.00</td>\n",
       "      <td>1.00</td>\n",
       "      <td>0.29</td>\n",
       "    </tr>\n",
       "    <tr>\n",
       "      <th>279</th>\n",
       "      <td>0.40</td>\n",
       "      <td>1.00</td>\n",
       "      <td>0.30</td>\n",
       "    </tr>\n",
       "  </tbody>\n",
       "</table>\n",
       "<p>280 rows × 3 columns</p>\n",
       "</div>"
      ]
     },
     "metadata": {},
     "output_type": "display_data"
    }
   ],
   "metadata": {
    "datalore": {
     "type": "CODE",
     "hide_input_from_viewers": false,
     "hide_output_from_viewers": false
    },
    "pycharm": {
     "name": "#%%\n"
    }
   }
  },
  {
   "cell_type": "code",
   "source": [
    "df['is_outlier'] = False\n",
    "mark_outliers(df)"
   ],
   "execution_count": 9,
   "outputs": [
    {
     "name": "stdout",
     "text": [
      "46: [0.0 1.0 0.66]\n",
      "268: [0.0 1.0 0.09]\n",
      "98: [0.97 0.5 0.19]\n",
      "219: [0.0 1.0 0.11]\n",
      "85: [0.0 0.0 0.2]\n",
      "170: [1.0 1.0 0.38]\n",
      "145: [0.83 1.0 0.41]\n",
      "147: [0.0 1.0 0.12]\n",
      "222: [0.0 0.85 0.12]\n",
      "6: [0.0 1.0 0.42]\n"
     ],
     "output_type": "stream"
    }
   ],
   "metadata": {
    "datalore": {
     "type": "CODE",
     "hide_input_from_viewers": false,
     "hide_output_from_viewers": false
    },
    "pycharm": {
     "name": "#%%\n"
    }
   }
  },
  {
   "cell_type": "code",
   "source": [
    "px.scatter_3d(df, x='asi1_med', y='asi2_emp', z='asi4_dr', color='is_outlier')"
   ],
   "execution_count": 10,
   "outputs": [
    {
     "data": {
      "text/plain": [
       "Unsupported"
      ]
     },
     "metadata": {},
     "output_type": "display_data"
    }
   ],
   "metadata": {
    "datalore": {
     "type": "CODE",
     "hide_input_from_viewers": false,
     "hide_output_from_viewers": false
    },
    "pycharm": {
     "name": "#%%\n"
    }
   }
  }
 ],
 "metadata": {
  "datalore": {
   "version": 1,
   "computation_mode": "REACTIVE",
   "package_manager": "pip",
   "base_environment": "default",
   "packages": []
  }
 },
 "nbformat": 4,
 "nbformat_minor": 4
}