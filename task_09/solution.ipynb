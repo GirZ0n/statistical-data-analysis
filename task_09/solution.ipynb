{
 "cells":[
  {
   "cell_type":"markdown",
   "source":[
    "# Утилиты"
   ],
   "attachments":{
    
   },
   "metadata":{
    "datalore":{
     "type":"MD",
     "hide_input_from_viewers":false,
     "hide_output_from_viewers":false,
     "sheet_delimiter":true
    }
   }
  },
  {
   "cell_type":"code",
   "source":[
    "import numpy as np\n",
    "import pandas as pd\n",
    "from scipy.stats import f, t, f_oneway\n",
    "from typing import List, Tuple\n",
    "import plotly.graph_objects as go"
   ],
   "execution_count":1,
   "outputs":[
    
   ],
   "metadata":{
    "datalore":{
     "type":"CODE",
     "hide_input_from_viewers":false,
     "hide_output_from_viewers":false
    }
   }
  },
  {
   "cell_type":"code",
   "source":[
    "def calculate_mean(x: np.ndarray) -> float:\n",
    "    return x.sum() \/ len(x)\n",
    "\n",
    "\n",
    "def calculate_var(x: np.ndarray) -> float:\n",
    "    return 1 \/ (len(x) - 1) * sum((x - calculate_mean(x)) ** 2)\n",
    "\n",
    "\n",
    "def calculate_q(*samples: np.ndarray) -> Tuple[float, float]:\n",
    "    r = len(samples)\n",
    "    n = 0\n",
    "\n",
    "    global_mean = 0\n",
    "    for sample in samples:\n",
    "        n += len(sample)\n",
    "        global_mean += sum(sample)\n",
    "    global_mean \/= n\n",
    "\n",
    "    q1 = 0\n",
    "    q2 = 0\n",
    "    for sample in samples:\n",
    "        mean = calculate_mean(sample)\n",
    "\n",
    "        q1 += len(sample) * (mean - global_mean) ** 2\n",
    "        q2 += sum((sample - mean) ** 2)\n",
    "\n",
    "    return q1, q2"
   ],
   "execution_count":2,
   "outputs":[
    
   ],
   "metadata":{
    "datalore":{
     "type":"CODE",
     "hide_input_from_viewers":false,
     "hide_output_from_viewers":false
    }
   }
  },
  {
   "cell_type":"code",
   "source":[
    "def anova(*samples: np.ndarray, alternative: str = 'two-sided') -> Tuple[float, float]:\n",
    "    q1, q2 = calculate_q(*samples)\n",
    "\n",
    "    n = 0\n",
    "    for sample in samples:\n",
    "        n += len(sample)\n",
    "\n",
    "    r = len(samples)\n",
    "\n",
    "    statistics = q1 \/ q2 * (n - r) \/ (r - 1)\n",
    "    p_value = f.sf(statistics, r - 1, n - r)\n",
    "\n",
    "    right_tail_p_value = f.sf(statistics, r - 1, n - r)\n",
    "    left_tail_p_value = f.cdf(statistics, r - 1, n - r)  \n",
    "    two_sided_p_value = 2 * min(left_tail_p_value, right_tail_p_value)\n",
    "\n",
    "    if alternative == 'less':\n",
    "        p_value = left_tail_p_value\n",
    "    elif alternative == 'greater':\n",
    "        p_value = right_tail_p_value\n",
    "    else:\n",
    "        p_value = two_sided_p_value\n",
    "\n",
    "    return statistics, p_value"
   ],
   "execution_count":3,
   "outputs":[
    
   ],
   "metadata":{
    "datalore":{
     "type":"CODE",
     "hide_input_from_viewers":false,
     "hide_output_from_viewers":false
    }
   }
  },
  {
   "cell_type":"code",
   "source":[
    "def pairwise_anova(*samples: np.ndarray, alternative: str = 'two-sided'):\n",
    "    _, q2 = calculate_q(*samples)\n",
    "\n",
    "    n = 0\n",
    "    for sample in samples:\n",
    "        n += len(sample)\n",
    "\n",
    "    r = len(samples)\n",
    "\n",
    "    for i, sample_i in enumerate(samples):\n",
    "        mean_i = calculate_mean(sample_i)\n",
    "        n_i = len(sample_i)\n",
    "        for j, sample_j in enumerate(samples[i + 1:], start=i + 1):\n",
    "            mean_j = calculate_mean(sample_j)\n",
    "            n_j = len(sample_j)\n",
    "            statistics = (mean_i - mean_j) \/ np.sqrt(q2) \/ np.sqrt(1 \/ n_i + 1 \/ n_j) * np.sqrt(n - r)\n",
    "\n",
    "            right_tail_p_value = t.sf(statistics, n - r)\n",
    "            left_tail_p_value = t.cdf(statistics, n - r)  \n",
    "            two_sided_p_value = 2 * min(left_tail_p_value, right_tail_p_value)\n",
    "\n",
    "            if alternative == 'less':\n",
    "                p_value = left_tail_p_value\n",
    "            elif alternative == 'greater':\n",
    "                p_value = right_tail_p_value\n",
    "            else:\n",
    "                p_value = two_sided_p_value\n",
    "\n",
    "            print(f'{i} - {j}: {statistics}, {p_value}')"
   ],
   "execution_count":4,
   "outputs":[
    
   ],
   "metadata":{
    "datalore":{
     "type":"CODE",
     "hide_input_from_viewers":false,
     "hide_output_from_viewers":false
    }
   }
  },
  {
   "cell_type":"markdown",
   "source":[
    "# Тестирование"
   ],
   "attachments":{
    
   },
   "metadata":{
    "datalore":{
     "type":"MD",
     "hide_input_from_viewers":false,
     "hide_output_from_viewers":false,
     "sheet_delimiter":true
    }
   }
  },
  {
   "cell_type":"code",
   "source":[
    "r1 = np.array([1, 3, 2, 1, 0, 2, 1])\n",
    "r2 = np.array([2, 3, 2, 1, 4])\n",
    "r3 = np.array([4, 5, 3])\n",
    "\n",
    "print(f_oneway(r1, r2, r3))\n",
    "print(anova(r1, r2, r3))\n",
    "print()\n",
    "pairwise_anova(r1, r2, r3)"
   ],
   "execution_count":5,
   "outputs":[
    {
     "name":"stdout",
     "text":[
      "F_onewayResult(statistic=6.513274336283186, pvalue=0.012152949868938764)\n",
      "(6.513274336283185, 0.02430589973787753)\n",
      "\n",
      "0 - 1: -1.599225476252115, 0.13575281638761094\n",
      "0 - 2: -3.5920265682837913, 0.0036996598905966608\n",
      "1 - 2: -2.1119131116479304, 0.056339625464633176\n"
     ],
     "output_type":"stream"
    }
   ],
   "metadata":{
    "datalore":{
     "type":"CODE",
     "hide_input_from_viewers":false,
     "hide_output_from_viewers":false
    }
   }
  },
  {
   "cell_type":"code",
   "source":[
    "data = pd.read_excel('addicts0.xls', sheet_name=1)\n",
    "data.dropna(inplace=True)\n",
    "grouped_by_educat = data.groupby(by=['educat'])\n",
    "data"
   ],
   "execution_count":6,
   "outputs":[
    {
     "data":{
      "text\/html":[
       "<div>\n",
       "<style scoped>\n",
       "    .dataframe tbody tr th:only-of-type {\n",
       "        vertical-align: middle;\n",
       "    }\n",
       "\n",
       "    .dataframe tbody tr th {\n",
       "        vertical-align: top;\n",
       "    }\n",
       "\n",
       "    .dataframe thead th {\n",
       "        text-align: right;\n",
       "    }\n",
       "<\/style>\n",
       "<table border=\"1\" class=\"dataframe\">\n",
       "  <thead>\n",
       "    <tr style=\"text-align: right;\">\n",
       "      <th><\/th>\n",
       "      <th>prcod<\/th>\n",
       "      <th>intpla<\/th>\n",
       "      <th>sex<\/th>\n",
       "      <th>age<\/th>\n",
       "      <th>educat<\/th>\n",
       "      <th>curwor<\/th>\n",
       "      <th>asi1_med<\/th>\n",
       "      <th>asi2_emp<\/th>\n",
       "      <th>asi3_alc<\/th>\n",
       "      <th>asi4_dr<\/th>\n",
       "      <th>...<\/th>\n",
       "      <th>ha<\/th>\n",
       "      <th>se<\/th>\n",
       "      <th>cravin<\/th>\n",
       "      <th>rabdru<\/th>\n",
       "      <th>rubsex<\/th>\n",
       "      <th>gaf<\/th>\n",
       "      <th>bdi<\/th>\n",
       "      <th>sstati<\/th>\n",
       "      <th>end<\/th>\n",
       "      <th>endpo<\/th>\n",
       "    <\/tr>\n",
       "  <\/thead>\n",
       "  <tbody>\n",
       "    <tr>\n",
       "      <th>0<\/th>\n",
       "      <td>4<\/td>\n",
       "      <td>1<\/td>\n",
       "      <td>0<\/td>\n",
       "      <td>18<\/td>\n",
       "      <td>1<\/td>\n",
       "      <td>1<\/td>\n",
       "      <td>0.19<\/td>\n",
       "      <td>0.70<\/td>\n",
       "      <td>0.120<\/td>\n",
       "      <td>0.30<\/td>\n",
       "      <td>...<\/td>\n",
       "      <td>1.0<\/td>\n",
       "      <td>0.0<\/td>\n",
       "      <td>4.6<\/td>\n",
       "      <td>1.0<\/td>\n",
       "      <td>4<\/td>\n",
       "      <td>55.0<\/td>\n",
       "      <td>25.0<\/td>\n",
       "      <td>60<\/td>\n",
       "      <td>0.0<\/td>\n",
       "      <td>5.0<\/td>\n",
       "    <\/tr>\n",
       "    <tr>\n",
       "      <th>1<\/th>\n",
       "      <td>2<\/td>\n",
       "      <td>2<\/td>\n",
       "      <td>1<\/td>\n",
       "      <td>30<\/td>\n",
       "      <td>4<\/td>\n",
       "      <td>1<\/td>\n",
       "      <td>0.44<\/td>\n",
       "      <td>0.23<\/td>\n",
       "      <td>0.006<\/td>\n",
       "      <td>0.27<\/td>\n",
       "      <td>...<\/td>\n",
       "      <td>0.0<\/td>\n",
       "      <td>0.0<\/td>\n",
       "      <td>9.7<\/td>\n",
       "      <td>4.0<\/td>\n",
       "      <td>5<\/td>\n",
       "      <td>55.0<\/td>\n",
       "      <td>39.0<\/td>\n",
       "      <td>50<\/td>\n",
       "      <td>0.0<\/td>\n",
       "      <td>5.0<\/td>\n",
       "    <\/tr>\n",
       "    <tr>\n",
       "      <th>2<\/th>\n",
       "      <td>2<\/td>\n",
       "      <td>1<\/td>\n",
       "      <td>0<\/td>\n",
       "      <td>23<\/td>\n",
       "      <td>2<\/td>\n",
       "      <td>0<\/td>\n",
       "      <td>0.50<\/td>\n",
       "      <td>1.00<\/td>\n",
       "      <td>0.300<\/td>\n",
       "      <td>0.30<\/td>\n",
       "      <td>...<\/td>\n",
       "      <td>0.0<\/td>\n",
       "      <td>0.0<\/td>\n",
       "      <td>9.5<\/td>\n",
       "      <td>6.0<\/td>\n",
       "      <td>1<\/td>\n",
       "      <td>45.0<\/td>\n",
       "      <td>29.0<\/td>\n",
       "      <td>55<\/td>\n",
       "      <td>0.0<\/td>\n",
       "      <td>2.0<\/td>\n",
       "    <\/tr>\n",
       "    <tr>\n",
       "      <th>3<\/th>\n",
       "      <td>4<\/td>\n",
       "      <td>1<\/td>\n",
       "      <td>0<\/td>\n",
       "      <td>20<\/td>\n",
       "      <td>2<\/td>\n",
       "      <td>1<\/td>\n",
       "      <td>0.00<\/td>\n",
       "      <td>0.80<\/td>\n",
       "      <td>0.050<\/td>\n",
       "      <td>0.26<\/td>\n",
       "      <td>...<\/td>\n",
       "      <td>1.0<\/td>\n",
       "      <td>0.0<\/td>\n",
       "      <td>2.7<\/td>\n",
       "      <td>11.0<\/td>\n",
       "      <td>4<\/td>\n",
       "      <td>40.0<\/td>\n",
       "      <td>28.0<\/td>\n",
       "      <td>58<\/td>\n",
       "      <td>0.0<\/td>\n",
       "      <td>5.0<\/td>\n",
       "    <\/tr>\n",
       "    <tr>\n",
       "      <th>4<\/th>\n",
       "      <td>3<\/td>\n",
       "      <td>2<\/td>\n",
       "      <td>0<\/td>\n",
       "      <td>20<\/td>\n",
       "      <td>2<\/td>\n",
       "      <td>0<\/td>\n",
       "      <td>0.00<\/td>\n",
       "      <td>0.75<\/td>\n",
       "      <td>0.780<\/td>\n",
       "      <td>0.23<\/td>\n",
       "      <td>...<\/td>\n",
       "      <td>0.0<\/td>\n",
       "      <td>0.0<\/td>\n",
       "      <td>3.0<\/td>\n",
       "      <td>19.0<\/td>\n",
       "      <td>4<\/td>\n",
       "      <td>40.0<\/td>\n",
       "      <td>28.0<\/td>\n",
       "      <td>58<\/td>\n",
       "      <td>0.0<\/td>\n",
       "      <td>2.0<\/td>\n",
       "    <\/tr>\n",
       "    <tr>\n",
       "      <th>...<\/th>\n",
       "      <td>...<\/td>\n",
       "      <td>...<\/td>\n",
       "      <td>...<\/td>\n",
       "      <td>...<\/td>\n",
       "      <td>...<\/td>\n",
       "      <td>...<\/td>\n",
       "      <td>...<\/td>\n",
       "      <td>...<\/td>\n",
       "      <td>...<\/td>\n",
       "      <td>...<\/td>\n",
       "      <td>...<\/td>\n",
       "      <td>...<\/td>\n",
       "      <td>...<\/td>\n",
       "      <td>...<\/td>\n",
       "      <td>...<\/td>\n",
       "      <td>...<\/td>\n",
       "      <td>...<\/td>\n",
       "      <td>...<\/td>\n",
       "      <td>...<\/td>\n",
       "      <td>...<\/td>\n",
       "      <td>...<\/td>\n",
       "    <\/tr>\n",
       "    <tr>\n",
       "      <th>275<\/th>\n",
       "      <td>1<\/td>\n",
       "      <td>2<\/td>\n",
       "      <td>0<\/td>\n",
       "      <td>23<\/td>\n",
       "      <td>2<\/td>\n",
       "      <td>0<\/td>\n",
       "      <td>0.10<\/td>\n",
       "      <td>0.59<\/td>\n",
       "      <td>0.000<\/td>\n",
       "      <td>0.25<\/td>\n",
       "      <td>...<\/td>\n",
       "      <td>1.0<\/td>\n",
       "      <td>0.0<\/td>\n",
       "      <td>4.5<\/td>\n",
       "      <td>5.0<\/td>\n",
       "      <td>2<\/td>\n",
       "      <td>41.0<\/td>\n",
       "      <td>17.0<\/td>\n",
       "      <td>47<\/td>\n",
       "      <td>0.0<\/td>\n",
       "      <td>2.0<\/td>\n",
       "    <\/tr>\n",
       "    <tr>\n",
       "      <th>276<\/th>\n",
       "      <td>4<\/td>\n",
       "      <td>2<\/td>\n",
       "      <td>0<\/td>\n",
       "      <td>25<\/td>\n",
       "      <td>2<\/td>\n",
       "      <td>0<\/td>\n",
       "      <td>0.00<\/td>\n",
       "      <td>1.00<\/td>\n",
       "      <td>0.000<\/td>\n",
       "      <td>0.25<\/td>\n",
       "      <td>...<\/td>\n",
       "      <td>1.0<\/td>\n",
       "      <td>0.0<\/td>\n",
       "      <td>0.8<\/td>\n",
       "      <td>6.0<\/td>\n",
       "      <td>6<\/td>\n",
       "      <td>50.0<\/td>\n",
       "      <td>21.0<\/td>\n",
       "      <td>45<\/td>\n",
       "      <td>0.0<\/td>\n",
       "      <td>2.0<\/td>\n",
       "    <\/tr>\n",
       "    <tr>\n",
       "      <th>277<\/th>\n",
       "      <td>1<\/td>\n",
       "      <td>2<\/td>\n",
       "      <td>0<\/td>\n",
       "      <td>24<\/td>\n",
       "      <td>2<\/td>\n",
       "      <td>0<\/td>\n",
       "      <td>0.00<\/td>\n",
       "      <td>1.00<\/td>\n",
       "      <td>0.210<\/td>\n",
       "      <td>0.21<\/td>\n",
       "      <td>...<\/td>\n",
       "      <td>0.0<\/td>\n",
       "      <td>1.0<\/td>\n",
       "      <td>1.5<\/td>\n",
       "      <td>8.0<\/td>\n",
       "      <td>5<\/td>\n",
       "      <td>50.0<\/td>\n",
       "      <td>12.0<\/td>\n",
       "      <td>40<\/td>\n",
       "      <td>1.0<\/td>\n",
       "      <td>1.0<\/td>\n",
       "    <\/tr>\n",
       "    <tr>\n",
       "      <th>278<\/th>\n",
       "      <td>1<\/td>\n",
       "      <td>2<\/td>\n",
       "      <td>1<\/td>\n",
       "      <td>18<\/td>\n",
       "      <td>2<\/td>\n",
       "      <td>0<\/td>\n",
       "      <td>0.00<\/td>\n",
       "      <td>1.00<\/td>\n",
       "      <td>0.020<\/td>\n",
       "      <td>0.29<\/td>\n",
       "      <td>...<\/td>\n",
       "      <td>0.0<\/td>\n",
       "      <td>1.0<\/td>\n",
       "      <td>4.0<\/td>\n",
       "      <td>14.0<\/td>\n",
       "      <td>5<\/td>\n",
       "      <td>45.0<\/td>\n",
       "      <td>22.0<\/td>\n",
       "      <td>62<\/td>\n",
       "      <td>0.0<\/td>\n",
       "      <td>5.0<\/td>\n",
       "    <\/tr>\n",
       "    <tr>\n",
       "      <th>279<\/th>\n",
       "      <td>3<\/td>\n",
       "      <td>1<\/td>\n",
       "      <td>0<\/td>\n",
       "      <td>28<\/td>\n",
       "      <td>2<\/td>\n",
       "      <td>0<\/td>\n",
       "      <td>0.40<\/td>\n",
       "      <td>1.00<\/td>\n",
       "      <td>0.120<\/td>\n",
       "      <td>0.30<\/td>\n",
       "      <td>...<\/td>\n",
       "      <td>0.0<\/td>\n",
       "      <td>0.0<\/td>\n",
       "      <td>10.0<\/td>\n",
       "      <td>10.0<\/td>\n",
       "      <td>5<\/td>\n",
       "      <td>48.0<\/td>\n",
       "      <td>26.0<\/td>\n",
       "      <td>62<\/td>\n",
       "      <td>1.0<\/td>\n",
       "      <td>1.0<\/td>\n",
       "    <\/tr>\n",
       "  <\/tbody>\n",
       "<\/table>\n",
       "<p>272 rows × 27 columns<\/p>\n",
       "<\/div>"
      ]
     },
     "metadata":{
      
     },
     "output_type":"display_data"
    }
   ],
   "metadata":{
    "datalore":{
     "type":"CODE",
     "hide_input_from_viewers":false,
     "hide_output_from_viewers":false
    }
   }
  },
  {
   "cell_type":"code",
   "source":[
    
   ],
   "execution_count":null,
   "outputs":[
    
   ],
   "metadata":{
    "datalore":{
     "type":"CODE",
     "hide_input_from_viewers":false,
     "hide_output_from_viewers":false
    }
   }
  },
  {
   "cell_type":"code",
   "source":[
    "samples = []\n",
    "for _, group in grouped_by_educat['asi2_emp']:\n",
    "    samples.append(group.to_numpy())\n",
    "\n",
    "print(f_oneway(*samples))\n",
    "print(anova(*samples))\n",
    "print()\n",
    "pairwise_anova(*samples)"
   ],
   "execution_count":7,
   "outputs":[
    {
     "name":"stdout",
     "text":[
      "F_onewayResult(statistic=3.6219370194494593, pvalue=0.013644080153473894)\n",
      "(3.621937019449463, 0.027288160306946883)\n",
      "\n",
      "0 - 1: -0.7429843415631653, 0.45814193561416194\n",
      "0 - 2: 1.3999330767866673, 0.1626898927610867\n",
      "0 - 3: 1.180849579443486, 0.2387093963282501\n",
      "1 - 2: 2.7967669021356905, 0.005535571476671078\n",
      "1 - 3: 1.8820689756407283, 0.060910157665962736\n",
      "2 - 3: 0.1544383849869198, 0.8773803286789008\n"
     ],
     "output_type":"stream"
    }
   ],
   "metadata":{
    "datalore":{
     "type":"CODE",
     "hide_input_from_viewers":false,
     "hide_output_from_viewers":false
    }
   }
  },
  {
   "cell_type":"markdown",
   "source":[
    "# asi1_med"
   ],
   "attachments":{
    
   },
   "metadata":{
    "datalore":{
     "type":"MD",
     "hide_input_from_viewers":false,
     "hide_output_from_viewers":false,
     "sheet_delimiter":true
    }
   }
  },
  {
   "cell_type":"code",
   "source":[
    "samples = []\n",
    "fig = go.Figure()\n",
    "for name, group in grouped_by_educat['asi1_med']:\n",
    "    group = group.to_numpy()\n",
    "    samples.append(group)\n",
    "    fig.add_box(y=group, name=name)\n",
    "    print(f'{name}: {len(group)}, {calculate_mean(group)}, {calculate_var(group)}')\n",
    "\n",
    "fig.update_layout(showlegend=False, margin={'l': 5, 'r': 5, 't': 5, 'b': 5})\n",
    "fig.write_image('box_plot.svg')\n",
    "fig.show()"
   ],
   "execution_count":8,
   "outputs":[
    {
     "name":"stdout",
     "text":[
      "1: 21, 0.40380952380952373, 0.06238476190476192\n",
      "2: 216, 0.22976851851851857, 0.07027110895779486\n",
      "3: 26, 0.28807692307692306, 0.08776815384615384\n",
      "4: 9, 0.21333333333333332, 0.06587499999999999\n"
     ],
     "output_type":"stream"
    },
    {
     "data":{
      "text\/plain":[
       "Unsupported"
      ]
     },
     "metadata":{
      
     },
     "output_type":"display_data"
    }
   ],
   "metadata":{
    "datalore":{
     "type":"CODE",
     "hide_input_from_viewers":false,
     "hide_output_from_viewers":false
    }
   }
  },
  {
   "cell_type":"code",
   "source":[
    "print(f_oneway(*samples))\n",
    "print(anova(*samples))"
   ],
   "execution_count":10,
   "outputs":[
    {
     "name":"stdout",
     "text":[
      "F_onewayResult(statistic=2.9696259894659254, pvalue=0.03235933623199457)\n",
      "(2.969625989465925, 0.06471867246399045)\n"
     ],
     "output_type":"stream"
    }
   ],
   "metadata":{
    "datalore":{
     "type":"CODE",
     "hide_input_from_viewers":false,
     "hide_output_from_viewers":false
    }
   }
  },
  {
   "cell_type":"code",
   "source":[
    "pairwise_anova(*samples)"
   ],
   "execution_count":11,
   "outputs":[
    {
     "name":"stdout",
     "text":[
      "0 - 1: 2.853804089280608, 0.00465715034762881\n",
      "0 - 2: 1.478472761829135, 0.1404556092800184\n",
      "0 - 3: 1.7919306344274455, 0.07427209352220686\n",
      "1 - 2: -1.0528033246768713, 0.29337943063500393\n",
      "1 - 3: 0.18106799639951288, 0.8564510623186123\n",
      "2 - 3: 0.7243660400702261, 0.4694729237768852\n"
     ],
     "output_type":"stream"
    }
   ],
   "metadata":{
    "datalore":{
     "type":"CODE",
     "hide_input_from_viewers":false,
     "hide_output_from_viewers":false
    }
   }
  }
 ],
 "metadata":{
  "datalore":{
   "version":1,
   "computation_mode":"JUPYTER",
   "package_manager":"pip",
   "base_environment":"default",
   "packages":[
    {
     "name":"kaleido",
     "version":"0.2.1",
     "source":"PIP"
    }
   ]
  }
 },
 "nbformat":4,
 "nbformat_minor":4
}