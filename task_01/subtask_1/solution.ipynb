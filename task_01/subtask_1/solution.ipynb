{
 "cells": [
  {
   "cell_type": "code",
   "execution_count": 14,
   "metadata": {
    "collapsed": true
   },
   "outputs": [],
   "source": [
    "import pandas as pd\n",
    "from IPython.display import display\n",
    "import numpy as np\n",
    "from math import comb\n",
    "\n",
    "pd.options.mode.chained_assignment = None"
   ]
  },
  {
   "cell_type": "code",
   "execution_count": 2,
   "outputs": [],
   "source": [
    "def check_hypothesis(prob: float, alpha: float = 0.05):\n",
    "    if prob < alpha:\n",
    "        print(f'Т.к. P < α = {alpha}, то гипотеза отвергается.')\n",
    "    else:\n",
    "        print(f'Т.к. P >= α = {alpha}, то гипотеза не отвергается.')"
   ],
   "metadata": {
    "collapsed": false,
    "pycharm": {
     "name": "#%%\n"
    }
   }
  },
  {
   "cell_type": "code",
   "execution_count": 3,
   "outputs": [
    {
     "data": {
      "text/plain": "    Unnamed: 0  X.1  depressed.mood.1  anxiety.1  suspiciousness.1  \\\n0            1    1                 1          1                 0   \n1            2    2                 1          1                 0   \n2            3    3                 1          1                 0   \n3            4    4                 2          2                 0   \n4            5    5                 1          1                 0   \n5            6    6                 1          1                 0   \n6            7    7                 1          1                 0   \n7            8    8                 1          1                 0   \n8            9    9                 1          1                 0   \n9           10   10                 1          1                 0   \n10          11   11                 1          1                 0   \n11          12   12                 1          1                 0   \n12          13   13                 1          1                 0   \n13          14   14                 1          1                 0   \n14          15   15                 1          1                 0   \n15          16   16                 1          1                 0   \n16          17   17                 1          1                 0   \n17          18   18                 1          1                 0   \n18          19   19                 1          1                 0   \n19          20   20                 2          1                 0   \n20          21   21                 1          1                 0   \n21          22   22                 1          1                 0   \n22          23   23                 1          1                 0   \n23          24   24                 1          1                 0   \n24          25   25                 1          0                 0   \n25          26   26                 2          0                 0   \n26          27   27                 1          2                 0   \n27          28   28                 2          0                 0   \n28          29   29                 1          0                 0   \n29          30   30                 2          2                 0   \n30          31   31                 1          1                 0   \n31          32   32                 1          0                 0   \n32          33   33                 1          1                 0   \n33          34   34                 2          2                 1   \n\n    irritability.1  craving.to.alcohol.1  weakness.1  insomia.1  headache.1  \\\n0                1                     1           1          1           0   \n1                0                     1           1          2           1   \n2                0                     0           2          1           0   \n3                0                     0           2          0           0   \n4                0                     2           2          1           0   \n5                1                     1           2          0           0   \n6                1                     1           2          2           1   \n7                1                     0           1          2           1   \n8                0                     2           1          0           0   \n9                1                     1           1          2           1   \n10               1                     1           1          1           0   \n11               1                     1           2          0           1   \n12               1                     1           2          2           0   \n13               0                     2           2          2           0   \n14               1                     1           2          1           0   \n15               0                     1           1          2           0   \n16               0                     1           2          1           0   \n17               0                     0           0          2           1   \n18               0                     0           1          1           1   \n19               0                     0           0          2           0   \n20               0                     1           2          0           0   \n21               1                     1           1          2           1   \n22               0                     0           2          2           0   \n23               0                     0           1          0           0   \n24               0                     0           1          1           1   \n25               0                     1           2          0           0   \n26               0                     1           0          1           0   \n27               2                     1           2          2           2   \n28               0                     0           1          2           1   \n29               1                     2           2          2           1   \n30               1                     0           1          2           0   \n31               0                     0           1          2           0   \n32               0                     1           1          1           0   \n33               0                     2           2          2           2   \n\n    ...  combined2.9  HR.9  SBP.9  DBP.9  MBP.9   SV.9  CO.9  SI.9  CI.9  \\\n0   ...            0  68.0  108.0   70.0   83.0   74.0   5.0  40.0   2.7   \n1   ...            9  63.0  114.0   70.0   85.0  123.0   7.7  60.0   3.8   \n2   ...            0  64.0  120.0   80.0   93.0  106.0   6.8  55.0   3.5   \n3   ...            0  56.0  124.0   90.0  101.0   90.0   5.1  43.0   2.4   \n4   ...            0  66.0  116.0   78.0   90.0   90.0   5.9  45.0   2.2   \n5   ...            0  62.0  142.0   90.0  107.0  113.0   7.0  56.0   3.4   \n6   ...            0  85.0  110.0   84.0   93.0   46.0   3.9  21.0   1.8   \n7   ...            0  68.0  134.0   88.0  103.0   74.0   6.4  33.0   2.9   \n8   ...            0  76.0  134.0   76.0   96.0  116.0   8.6  60.0   4.4   \n9   ...            0  64.0  110.0   70.0   83.0   43.0   2.7  27.0   1.7   \n10  ...            0  83.0  124.0   76.0   92.0   59.0   4.9  30.0   2.6   \n11  ...            0  50.0  118.0   70.0   86.0  130.0   6.5  69.0   3.5   \n12  ...            2  66.0  110.0   70.0   83.0  106.0   7.0  56.0   3.7   \n13  ...            2  64.0  140.0   84.0  103.0  124.0   7.9  69.0   4.4   \n14  ...            0  84.0  114.0   84.0   94.0   69.0   6.0  41.0   3.6   \n15  ...            0  74.0  100.0   70.0   80.0   74.0   5.5  44.0   3.2   \n16  ...            0  68.0  114.0   76.0   88.0   63.0   4.3  34.0   2.3   \n17  ...            0  64.0  102.0   80.0   87.0   47.0   3.0  28.0   1.8   \n18  ...            0  68.0  108.0   72.0   84.0   97.0   6.6  55.0   3.8   \n19  ...            0  74.0  130.0   80.0   97.0  104.0   7.7  54.0   4.0   \n20  ...            0  81.0  116.0   82.0   93.0   43.0   3.5  26.0   2.1   \n21  ...            0  45.0  108.0   74.0   85.0  101.0   4.5  53.0   2.4   \n22  ...            2  75.0  120.0   66.0   84.0   59.0   4.4  29.0   2.2   \n23  ...            0  72.0  114.0   64.0   81.0  127.0   9.1  60.0   4.3   \n24  ...            0  73.0  116.0   78.0   91.0   90.0   6.6  47.0   3.4   \n25  ...            0  79.0  126.0   80.0   95.0   82.0   6.5  43.0   3.4   \n26  ...            4  83.0  138.0   88.0  105.0   77.0   6.4  36.0   3.0   \n27  ...            0  73.0  126.0   88.0  101.0   86.0   6.3  47.0   3.9   \n28  ...            0  75.0  124.0   70.0   88.0   83.0   6.2  44.0   3.3   \n29  ...            0  63.0  110.0   84.0   93.0   79.0   5.0  41.0   2.6   \n30  ...            0  84.0  124.0   80.0   95.0   51.0   4.3  24.0   2.0   \n31  ...            2  45.0  118.0   68.0   85.0   74.0   3.3  39.0   1.8   \n32  ...            0  76.0  132.0   78.0   96.0    NaN   NaN   NaN   NaN   \n33  ...            0   NaN    NaN    NaN    NaN    NaN   NaN   NaN   NaN   \n\n     TPR.9  \n0   1321.0  \n1    879.0  \n2   1098.0  \n3   1600.0  \n4   1228.0  \n5   1225.0  \n6   1899.0  \n7   1290.0  \n8    886.0  \n9   2467.0  \n10  1500.0  \n11  1057.0  \n12   942.0  \n13  1039.0  \n14  1256.0  \n15  1162.0  \n16  1649.0  \n17  2325.0  \n18  1017.0  \n19  1004.0  \n20  2150.0  \n21  2398.0  \n22  1526.0  \n23   708.0  \n24  1098.0  \n25  1172.0  \n26  1316.0  \n27  1277.0  \n28  1134.0  \n29  1481.0  \n30  1747.0  \n31  2032.0  \n32     NaN  \n33     NaN  \n\n[34 rows x 121 columns]",
      "text/html": "<div>\n<style scoped>\n    .dataframe tbody tr th:only-of-type {\n        vertical-align: middle;\n    }\n\n    .dataframe tbody tr th {\n        vertical-align: top;\n    }\n\n    .dataframe thead th {\n        text-align: right;\n    }\n</style>\n<table border=\"1\" class=\"dataframe\">\n  <thead>\n    <tr style=\"text-align: right;\">\n      <th></th>\n      <th>Unnamed: 0</th>\n      <th>X.1</th>\n      <th>depressed.mood.1</th>\n      <th>anxiety.1</th>\n      <th>suspiciousness.1</th>\n      <th>irritability.1</th>\n      <th>craving.to.alcohol.1</th>\n      <th>weakness.1</th>\n      <th>insomia.1</th>\n      <th>headache.1</th>\n      <th>...</th>\n      <th>combined2.9</th>\n      <th>HR.9</th>\n      <th>SBP.9</th>\n      <th>DBP.9</th>\n      <th>MBP.9</th>\n      <th>SV.9</th>\n      <th>CO.9</th>\n      <th>SI.9</th>\n      <th>CI.9</th>\n      <th>TPR.9</th>\n    </tr>\n  </thead>\n  <tbody>\n    <tr>\n      <th>0</th>\n      <td>1</td>\n      <td>1</td>\n      <td>1</td>\n      <td>1</td>\n      <td>0</td>\n      <td>1</td>\n      <td>1</td>\n      <td>1</td>\n      <td>1</td>\n      <td>0</td>\n      <td>...</td>\n      <td>0</td>\n      <td>68.0</td>\n      <td>108.0</td>\n      <td>70.0</td>\n      <td>83.0</td>\n      <td>74.0</td>\n      <td>5.0</td>\n      <td>40.0</td>\n      <td>2.7</td>\n      <td>1321.0</td>\n    </tr>\n    <tr>\n      <th>1</th>\n      <td>2</td>\n      <td>2</td>\n      <td>1</td>\n      <td>1</td>\n      <td>0</td>\n      <td>0</td>\n      <td>1</td>\n      <td>1</td>\n      <td>2</td>\n      <td>1</td>\n      <td>...</td>\n      <td>9</td>\n      <td>63.0</td>\n      <td>114.0</td>\n      <td>70.0</td>\n      <td>85.0</td>\n      <td>123.0</td>\n      <td>7.7</td>\n      <td>60.0</td>\n      <td>3.8</td>\n      <td>879.0</td>\n    </tr>\n    <tr>\n      <th>2</th>\n      <td>3</td>\n      <td>3</td>\n      <td>1</td>\n      <td>1</td>\n      <td>0</td>\n      <td>0</td>\n      <td>0</td>\n      <td>2</td>\n      <td>1</td>\n      <td>0</td>\n      <td>...</td>\n      <td>0</td>\n      <td>64.0</td>\n      <td>120.0</td>\n      <td>80.0</td>\n      <td>93.0</td>\n      <td>106.0</td>\n      <td>6.8</td>\n      <td>55.0</td>\n      <td>3.5</td>\n      <td>1098.0</td>\n    </tr>\n    <tr>\n      <th>3</th>\n      <td>4</td>\n      <td>4</td>\n      <td>2</td>\n      <td>2</td>\n      <td>0</td>\n      <td>0</td>\n      <td>0</td>\n      <td>2</td>\n      <td>0</td>\n      <td>0</td>\n      <td>...</td>\n      <td>0</td>\n      <td>56.0</td>\n      <td>124.0</td>\n      <td>90.0</td>\n      <td>101.0</td>\n      <td>90.0</td>\n      <td>5.1</td>\n      <td>43.0</td>\n      <td>2.4</td>\n      <td>1600.0</td>\n    </tr>\n    <tr>\n      <th>4</th>\n      <td>5</td>\n      <td>5</td>\n      <td>1</td>\n      <td>1</td>\n      <td>0</td>\n      <td>0</td>\n      <td>2</td>\n      <td>2</td>\n      <td>1</td>\n      <td>0</td>\n      <td>...</td>\n      <td>0</td>\n      <td>66.0</td>\n      <td>116.0</td>\n      <td>78.0</td>\n      <td>90.0</td>\n      <td>90.0</td>\n      <td>5.9</td>\n      <td>45.0</td>\n      <td>2.2</td>\n      <td>1228.0</td>\n    </tr>\n    <tr>\n      <th>5</th>\n      <td>6</td>\n      <td>6</td>\n      <td>1</td>\n      <td>1</td>\n      <td>0</td>\n      <td>1</td>\n      <td>1</td>\n      <td>2</td>\n      <td>0</td>\n      <td>0</td>\n      <td>...</td>\n      <td>0</td>\n      <td>62.0</td>\n      <td>142.0</td>\n      <td>90.0</td>\n      <td>107.0</td>\n      <td>113.0</td>\n      <td>7.0</td>\n      <td>56.0</td>\n      <td>3.4</td>\n      <td>1225.0</td>\n    </tr>\n    <tr>\n      <th>6</th>\n      <td>7</td>\n      <td>7</td>\n      <td>1</td>\n      <td>1</td>\n      <td>0</td>\n      <td>1</td>\n      <td>1</td>\n      <td>2</td>\n      <td>2</td>\n      <td>1</td>\n      <td>...</td>\n      <td>0</td>\n      <td>85.0</td>\n      <td>110.0</td>\n      <td>84.0</td>\n      <td>93.0</td>\n      <td>46.0</td>\n      <td>3.9</td>\n      <td>21.0</td>\n      <td>1.8</td>\n      <td>1899.0</td>\n    </tr>\n    <tr>\n      <th>7</th>\n      <td>8</td>\n      <td>8</td>\n      <td>1</td>\n      <td>1</td>\n      <td>0</td>\n      <td>1</td>\n      <td>0</td>\n      <td>1</td>\n      <td>2</td>\n      <td>1</td>\n      <td>...</td>\n      <td>0</td>\n      <td>68.0</td>\n      <td>134.0</td>\n      <td>88.0</td>\n      <td>103.0</td>\n      <td>74.0</td>\n      <td>6.4</td>\n      <td>33.0</td>\n      <td>2.9</td>\n      <td>1290.0</td>\n    </tr>\n    <tr>\n      <th>8</th>\n      <td>9</td>\n      <td>9</td>\n      <td>1</td>\n      <td>1</td>\n      <td>0</td>\n      <td>0</td>\n      <td>2</td>\n      <td>1</td>\n      <td>0</td>\n      <td>0</td>\n      <td>...</td>\n      <td>0</td>\n      <td>76.0</td>\n      <td>134.0</td>\n      <td>76.0</td>\n      <td>96.0</td>\n      <td>116.0</td>\n      <td>8.6</td>\n      <td>60.0</td>\n      <td>4.4</td>\n      <td>886.0</td>\n    </tr>\n    <tr>\n      <th>9</th>\n      <td>10</td>\n      <td>10</td>\n      <td>1</td>\n      <td>1</td>\n      <td>0</td>\n      <td>1</td>\n      <td>1</td>\n      <td>1</td>\n      <td>2</td>\n      <td>1</td>\n      <td>...</td>\n      <td>0</td>\n      <td>64.0</td>\n      <td>110.0</td>\n      <td>70.0</td>\n      <td>83.0</td>\n      <td>43.0</td>\n      <td>2.7</td>\n      <td>27.0</td>\n      <td>1.7</td>\n      <td>2467.0</td>\n    </tr>\n    <tr>\n      <th>10</th>\n      <td>11</td>\n      <td>11</td>\n      <td>1</td>\n      <td>1</td>\n      <td>0</td>\n      <td>1</td>\n      <td>1</td>\n      <td>1</td>\n      <td>1</td>\n      <td>0</td>\n      <td>...</td>\n      <td>0</td>\n      <td>83.0</td>\n      <td>124.0</td>\n      <td>76.0</td>\n      <td>92.0</td>\n      <td>59.0</td>\n      <td>4.9</td>\n      <td>30.0</td>\n      <td>2.6</td>\n      <td>1500.0</td>\n    </tr>\n    <tr>\n      <th>11</th>\n      <td>12</td>\n      <td>12</td>\n      <td>1</td>\n      <td>1</td>\n      <td>0</td>\n      <td>1</td>\n      <td>1</td>\n      <td>2</td>\n      <td>0</td>\n      <td>1</td>\n      <td>...</td>\n      <td>0</td>\n      <td>50.0</td>\n      <td>118.0</td>\n      <td>70.0</td>\n      <td>86.0</td>\n      <td>130.0</td>\n      <td>6.5</td>\n      <td>69.0</td>\n      <td>3.5</td>\n      <td>1057.0</td>\n    </tr>\n    <tr>\n      <th>12</th>\n      <td>13</td>\n      <td>13</td>\n      <td>1</td>\n      <td>1</td>\n      <td>0</td>\n      <td>1</td>\n      <td>1</td>\n      <td>2</td>\n      <td>2</td>\n      <td>0</td>\n      <td>...</td>\n      <td>2</td>\n      <td>66.0</td>\n      <td>110.0</td>\n      <td>70.0</td>\n      <td>83.0</td>\n      <td>106.0</td>\n      <td>7.0</td>\n      <td>56.0</td>\n      <td>3.7</td>\n      <td>942.0</td>\n    </tr>\n    <tr>\n      <th>13</th>\n      <td>14</td>\n      <td>14</td>\n      <td>1</td>\n      <td>1</td>\n      <td>0</td>\n      <td>0</td>\n      <td>2</td>\n      <td>2</td>\n      <td>2</td>\n      <td>0</td>\n      <td>...</td>\n      <td>2</td>\n      <td>64.0</td>\n      <td>140.0</td>\n      <td>84.0</td>\n      <td>103.0</td>\n      <td>124.0</td>\n      <td>7.9</td>\n      <td>69.0</td>\n      <td>4.4</td>\n      <td>1039.0</td>\n    </tr>\n    <tr>\n      <th>14</th>\n      <td>15</td>\n      <td>15</td>\n      <td>1</td>\n      <td>1</td>\n      <td>0</td>\n      <td>1</td>\n      <td>1</td>\n      <td>2</td>\n      <td>1</td>\n      <td>0</td>\n      <td>...</td>\n      <td>0</td>\n      <td>84.0</td>\n      <td>114.0</td>\n      <td>84.0</td>\n      <td>94.0</td>\n      <td>69.0</td>\n      <td>6.0</td>\n      <td>41.0</td>\n      <td>3.6</td>\n      <td>1256.0</td>\n    </tr>\n    <tr>\n      <th>15</th>\n      <td>16</td>\n      <td>16</td>\n      <td>1</td>\n      <td>1</td>\n      <td>0</td>\n      <td>0</td>\n      <td>1</td>\n      <td>1</td>\n      <td>2</td>\n      <td>0</td>\n      <td>...</td>\n      <td>0</td>\n      <td>74.0</td>\n      <td>100.0</td>\n      <td>70.0</td>\n      <td>80.0</td>\n      <td>74.0</td>\n      <td>5.5</td>\n      <td>44.0</td>\n      <td>3.2</td>\n      <td>1162.0</td>\n    </tr>\n    <tr>\n      <th>16</th>\n      <td>17</td>\n      <td>17</td>\n      <td>1</td>\n      <td>1</td>\n      <td>0</td>\n      <td>0</td>\n      <td>1</td>\n      <td>2</td>\n      <td>1</td>\n      <td>0</td>\n      <td>...</td>\n      <td>0</td>\n      <td>68.0</td>\n      <td>114.0</td>\n      <td>76.0</td>\n      <td>88.0</td>\n      <td>63.0</td>\n      <td>4.3</td>\n      <td>34.0</td>\n      <td>2.3</td>\n      <td>1649.0</td>\n    </tr>\n    <tr>\n      <th>17</th>\n      <td>18</td>\n      <td>18</td>\n      <td>1</td>\n      <td>1</td>\n      <td>0</td>\n      <td>0</td>\n      <td>0</td>\n      <td>0</td>\n      <td>2</td>\n      <td>1</td>\n      <td>...</td>\n      <td>0</td>\n      <td>64.0</td>\n      <td>102.0</td>\n      <td>80.0</td>\n      <td>87.0</td>\n      <td>47.0</td>\n      <td>3.0</td>\n      <td>28.0</td>\n      <td>1.8</td>\n      <td>2325.0</td>\n    </tr>\n    <tr>\n      <th>18</th>\n      <td>19</td>\n      <td>19</td>\n      <td>1</td>\n      <td>1</td>\n      <td>0</td>\n      <td>0</td>\n      <td>0</td>\n      <td>1</td>\n      <td>1</td>\n      <td>1</td>\n      <td>...</td>\n      <td>0</td>\n      <td>68.0</td>\n      <td>108.0</td>\n      <td>72.0</td>\n      <td>84.0</td>\n      <td>97.0</td>\n      <td>6.6</td>\n      <td>55.0</td>\n      <td>3.8</td>\n      <td>1017.0</td>\n    </tr>\n    <tr>\n      <th>19</th>\n      <td>20</td>\n      <td>20</td>\n      <td>2</td>\n      <td>1</td>\n      <td>0</td>\n      <td>0</td>\n      <td>0</td>\n      <td>0</td>\n      <td>2</td>\n      <td>0</td>\n      <td>...</td>\n      <td>0</td>\n      <td>74.0</td>\n      <td>130.0</td>\n      <td>80.0</td>\n      <td>97.0</td>\n      <td>104.0</td>\n      <td>7.7</td>\n      <td>54.0</td>\n      <td>4.0</td>\n      <td>1004.0</td>\n    </tr>\n    <tr>\n      <th>20</th>\n      <td>21</td>\n      <td>21</td>\n      <td>1</td>\n      <td>1</td>\n      <td>0</td>\n      <td>0</td>\n      <td>1</td>\n      <td>2</td>\n      <td>0</td>\n      <td>0</td>\n      <td>...</td>\n      <td>0</td>\n      <td>81.0</td>\n      <td>116.0</td>\n      <td>82.0</td>\n      <td>93.0</td>\n      <td>43.0</td>\n      <td>3.5</td>\n      <td>26.0</td>\n      <td>2.1</td>\n      <td>2150.0</td>\n    </tr>\n    <tr>\n      <th>21</th>\n      <td>22</td>\n      <td>22</td>\n      <td>1</td>\n      <td>1</td>\n      <td>0</td>\n      <td>1</td>\n      <td>1</td>\n      <td>1</td>\n      <td>2</td>\n      <td>1</td>\n      <td>...</td>\n      <td>0</td>\n      <td>45.0</td>\n      <td>108.0</td>\n      <td>74.0</td>\n      <td>85.0</td>\n      <td>101.0</td>\n      <td>4.5</td>\n      <td>53.0</td>\n      <td>2.4</td>\n      <td>2398.0</td>\n    </tr>\n    <tr>\n      <th>22</th>\n      <td>23</td>\n      <td>23</td>\n      <td>1</td>\n      <td>1</td>\n      <td>0</td>\n      <td>0</td>\n      <td>0</td>\n      <td>2</td>\n      <td>2</td>\n      <td>0</td>\n      <td>...</td>\n      <td>2</td>\n      <td>75.0</td>\n      <td>120.0</td>\n      <td>66.0</td>\n      <td>84.0</td>\n      <td>59.0</td>\n      <td>4.4</td>\n      <td>29.0</td>\n      <td>2.2</td>\n      <td>1526.0</td>\n    </tr>\n    <tr>\n      <th>23</th>\n      <td>24</td>\n      <td>24</td>\n      <td>1</td>\n      <td>1</td>\n      <td>0</td>\n      <td>0</td>\n      <td>0</td>\n      <td>1</td>\n      <td>0</td>\n      <td>0</td>\n      <td>...</td>\n      <td>0</td>\n      <td>72.0</td>\n      <td>114.0</td>\n      <td>64.0</td>\n      <td>81.0</td>\n      <td>127.0</td>\n      <td>9.1</td>\n      <td>60.0</td>\n      <td>4.3</td>\n      <td>708.0</td>\n    </tr>\n    <tr>\n      <th>24</th>\n      <td>25</td>\n      <td>25</td>\n      <td>1</td>\n      <td>0</td>\n      <td>0</td>\n      <td>0</td>\n      <td>0</td>\n      <td>1</td>\n      <td>1</td>\n      <td>1</td>\n      <td>...</td>\n      <td>0</td>\n      <td>73.0</td>\n      <td>116.0</td>\n      <td>78.0</td>\n      <td>91.0</td>\n      <td>90.0</td>\n      <td>6.6</td>\n      <td>47.0</td>\n      <td>3.4</td>\n      <td>1098.0</td>\n    </tr>\n    <tr>\n      <th>25</th>\n      <td>26</td>\n      <td>26</td>\n      <td>2</td>\n      <td>0</td>\n      <td>0</td>\n      <td>0</td>\n      <td>1</td>\n      <td>2</td>\n      <td>0</td>\n      <td>0</td>\n      <td>...</td>\n      <td>0</td>\n      <td>79.0</td>\n      <td>126.0</td>\n      <td>80.0</td>\n      <td>95.0</td>\n      <td>82.0</td>\n      <td>6.5</td>\n      <td>43.0</td>\n      <td>3.4</td>\n      <td>1172.0</td>\n    </tr>\n    <tr>\n      <th>26</th>\n      <td>27</td>\n      <td>27</td>\n      <td>1</td>\n      <td>2</td>\n      <td>0</td>\n      <td>0</td>\n      <td>1</td>\n      <td>0</td>\n      <td>1</td>\n      <td>0</td>\n      <td>...</td>\n      <td>4</td>\n      <td>83.0</td>\n      <td>138.0</td>\n      <td>88.0</td>\n      <td>105.0</td>\n      <td>77.0</td>\n      <td>6.4</td>\n      <td>36.0</td>\n      <td>3.0</td>\n      <td>1316.0</td>\n    </tr>\n    <tr>\n      <th>27</th>\n      <td>28</td>\n      <td>28</td>\n      <td>2</td>\n      <td>0</td>\n      <td>0</td>\n      <td>2</td>\n      <td>1</td>\n      <td>2</td>\n      <td>2</td>\n      <td>2</td>\n      <td>...</td>\n      <td>0</td>\n      <td>73.0</td>\n      <td>126.0</td>\n      <td>88.0</td>\n      <td>101.0</td>\n      <td>86.0</td>\n      <td>6.3</td>\n      <td>47.0</td>\n      <td>3.9</td>\n      <td>1277.0</td>\n    </tr>\n    <tr>\n      <th>28</th>\n      <td>29</td>\n      <td>29</td>\n      <td>1</td>\n      <td>0</td>\n      <td>0</td>\n      <td>0</td>\n      <td>0</td>\n      <td>1</td>\n      <td>2</td>\n      <td>1</td>\n      <td>...</td>\n      <td>0</td>\n      <td>75.0</td>\n      <td>124.0</td>\n      <td>70.0</td>\n      <td>88.0</td>\n      <td>83.0</td>\n      <td>6.2</td>\n      <td>44.0</td>\n      <td>3.3</td>\n      <td>1134.0</td>\n    </tr>\n    <tr>\n      <th>29</th>\n      <td>30</td>\n      <td>30</td>\n      <td>2</td>\n      <td>2</td>\n      <td>0</td>\n      <td>1</td>\n      <td>2</td>\n      <td>2</td>\n      <td>2</td>\n      <td>1</td>\n      <td>...</td>\n      <td>0</td>\n      <td>63.0</td>\n      <td>110.0</td>\n      <td>84.0</td>\n      <td>93.0</td>\n      <td>79.0</td>\n      <td>5.0</td>\n      <td>41.0</td>\n      <td>2.6</td>\n      <td>1481.0</td>\n    </tr>\n    <tr>\n      <th>30</th>\n      <td>31</td>\n      <td>31</td>\n      <td>1</td>\n      <td>1</td>\n      <td>0</td>\n      <td>1</td>\n      <td>0</td>\n      <td>1</td>\n      <td>2</td>\n      <td>0</td>\n      <td>...</td>\n      <td>0</td>\n      <td>84.0</td>\n      <td>124.0</td>\n      <td>80.0</td>\n      <td>95.0</td>\n      <td>51.0</td>\n      <td>4.3</td>\n      <td>24.0</td>\n      <td>2.0</td>\n      <td>1747.0</td>\n    </tr>\n    <tr>\n      <th>31</th>\n      <td>32</td>\n      <td>32</td>\n      <td>1</td>\n      <td>0</td>\n      <td>0</td>\n      <td>0</td>\n      <td>0</td>\n      <td>1</td>\n      <td>2</td>\n      <td>0</td>\n      <td>...</td>\n      <td>2</td>\n      <td>45.0</td>\n      <td>118.0</td>\n      <td>68.0</td>\n      <td>85.0</td>\n      <td>74.0</td>\n      <td>3.3</td>\n      <td>39.0</td>\n      <td>1.8</td>\n      <td>2032.0</td>\n    </tr>\n    <tr>\n      <th>32</th>\n      <td>33</td>\n      <td>33</td>\n      <td>1</td>\n      <td>1</td>\n      <td>0</td>\n      <td>0</td>\n      <td>1</td>\n      <td>1</td>\n      <td>1</td>\n      <td>0</td>\n      <td>...</td>\n      <td>0</td>\n      <td>76.0</td>\n      <td>132.0</td>\n      <td>78.0</td>\n      <td>96.0</td>\n      <td>NaN</td>\n      <td>NaN</td>\n      <td>NaN</td>\n      <td>NaN</td>\n      <td>NaN</td>\n    </tr>\n    <tr>\n      <th>33</th>\n      <td>34</td>\n      <td>34</td>\n      <td>2</td>\n      <td>2</td>\n      <td>1</td>\n      <td>0</td>\n      <td>2</td>\n      <td>2</td>\n      <td>2</td>\n      <td>2</td>\n      <td>...</td>\n      <td>0</td>\n      <td>NaN</td>\n      <td>NaN</td>\n      <td>NaN</td>\n      <td>NaN</td>\n      <td>NaN</td>\n      <td>NaN</td>\n      <td>NaN</td>\n      <td>NaN</td>\n      <td>NaN</td>\n    </tr>\n  </tbody>\n</table>\n<p>34 rows × 121 columns</p>\n</div>"
     },
     "execution_count": 3,
     "metadata": {},
     "output_type": "execute_result"
    }
   ],
   "source": [
    "df = pd.read_csv('../data_big.csv')\n",
    "df"
   ],
   "metadata": {
    "collapsed": false,
    "pycharm": {
     "name": "#%%\n"
    }
   }
  },
  {
   "cell_type": "code",
   "execution_count": 12,
   "outputs": [
    {
     "data": {
      "text/plain": "    anxiety.1  anxiety.2\n0           1          0\n3           2          0\n6           1          0\n7           1          0\n10          1          0\n13          1          0\n16          1          0\n19          1          0\n20          1          0\n21          1          0\n22          1          0\n23          1          0\n25          0          1\n26          2          1\n27          0          1\n29          2          1\n30          1          0\n33          2          0",
      "text/html": "<div>\n<style scoped>\n    .dataframe tbody tr th:only-of-type {\n        vertical-align: middle;\n    }\n\n    .dataframe tbody tr th {\n        vertical-align: top;\n    }\n\n    .dataframe thead th {\n        text-align: right;\n    }\n</style>\n<table border=\"1\" class=\"dataframe\">\n  <thead>\n    <tr style=\"text-align: right;\">\n      <th></th>\n      <th>anxiety.1</th>\n      <th>anxiety.2</th>\n    </tr>\n  </thead>\n  <tbody>\n    <tr>\n      <th>0</th>\n      <td>1</td>\n      <td>0</td>\n    </tr>\n    <tr>\n      <th>3</th>\n      <td>2</td>\n      <td>0</td>\n    </tr>\n    <tr>\n      <th>6</th>\n      <td>1</td>\n      <td>0</td>\n    </tr>\n    <tr>\n      <th>7</th>\n      <td>1</td>\n      <td>0</td>\n    </tr>\n    <tr>\n      <th>10</th>\n      <td>1</td>\n      <td>0</td>\n    </tr>\n    <tr>\n      <th>13</th>\n      <td>1</td>\n      <td>0</td>\n    </tr>\n    <tr>\n      <th>16</th>\n      <td>1</td>\n      <td>0</td>\n    </tr>\n    <tr>\n      <th>19</th>\n      <td>1</td>\n      <td>0</td>\n    </tr>\n    <tr>\n      <th>20</th>\n      <td>1</td>\n      <td>0</td>\n    </tr>\n    <tr>\n      <th>21</th>\n      <td>1</td>\n      <td>0</td>\n    </tr>\n    <tr>\n      <th>22</th>\n      <td>1</td>\n      <td>0</td>\n    </tr>\n    <tr>\n      <th>23</th>\n      <td>1</td>\n      <td>0</td>\n    </tr>\n    <tr>\n      <th>25</th>\n      <td>0</td>\n      <td>1</td>\n    </tr>\n    <tr>\n      <th>26</th>\n      <td>2</td>\n      <td>1</td>\n    </tr>\n    <tr>\n      <th>27</th>\n      <td>0</td>\n      <td>1</td>\n    </tr>\n    <tr>\n      <th>29</th>\n      <td>2</td>\n      <td>1</td>\n    </tr>\n    <tr>\n      <th>30</th>\n      <td>1</td>\n      <td>0</td>\n    </tr>\n    <tr>\n      <th>33</th>\n      <td>2</td>\n      <td>0</td>\n    </tr>\n  </tbody>\n</table>\n</div>"
     },
     "execution_count": 12,
     "metadata": {},
     "output_type": "execute_result"
    }
   ],
   "source": [
    "# Второй признак\n",
    "df = df[['anxiety.1', 'anxiety.2']]  # Тревожность\n",
    "df"
   ],
   "metadata": {
    "collapsed": false,
    "pycharm": {
     "name": "#%%\n"
    }
   }
  },
  {
   "cell_type": "markdown",
   "source": [
    "<p style=\"font-size:18px;\"><b>Гипотеза:</b> улучшение состояния больного является случайным событием</p>\n",
    "<p style=\"font-size:18px;\"><b>Альтернативная гипотеза:</b> улучшение состояния больного является статистически значимым событием.</p>"
   ],
   "metadata": {
    "collapsed": false,
    "pycharm": {
     "name": "#%% md\n"
    }
   }
  },
  {
   "cell_type": "code",
   "execution_count": 16,
   "outputs": [
    {
     "data": {
      "text/plain": "    anxiety.1  anxiety.2 sign\n0           1          0    +\n3           2          0    +\n6           1          0    +\n7           1          0    +\n10          1          0    +\n13          1          0    +\n16          1          0    +\n19          1          0    +\n20          1          0    +\n21          1          0    +\n22          1          0    +\n23          1          0    +\n25          0          1    -\n26          2          1    +\n27          0          1    -\n29          2          1    +\n30          1          0    +\n33          2          0    +",
      "text/html": "<div>\n<style scoped>\n    .dataframe tbody tr th:only-of-type {\n        vertical-align: middle;\n    }\n\n    .dataframe tbody tr th {\n        vertical-align: top;\n    }\n\n    .dataframe thead th {\n        text-align: right;\n    }\n</style>\n<table border=\"1\" class=\"dataframe\">\n  <thead>\n    <tr style=\"text-align: right;\">\n      <th></th>\n      <th>anxiety.1</th>\n      <th>anxiety.2</th>\n      <th>sign</th>\n    </tr>\n  </thead>\n  <tbody>\n    <tr>\n      <th>0</th>\n      <td>1</td>\n      <td>0</td>\n      <td>+</td>\n    </tr>\n    <tr>\n      <th>3</th>\n      <td>2</td>\n      <td>0</td>\n      <td>+</td>\n    </tr>\n    <tr>\n      <th>6</th>\n      <td>1</td>\n      <td>0</td>\n      <td>+</td>\n    </tr>\n    <tr>\n      <th>7</th>\n      <td>1</td>\n      <td>0</td>\n      <td>+</td>\n    </tr>\n    <tr>\n      <th>10</th>\n      <td>1</td>\n      <td>0</td>\n      <td>+</td>\n    </tr>\n    <tr>\n      <th>13</th>\n      <td>1</td>\n      <td>0</td>\n      <td>+</td>\n    </tr>\n    <tr>\n      <th>16</th>\n      <td>1</td>\n      <td>0</td>\n      <td>+</td>\n    </tr>\n    <tr>\n      <th>19</th>\n      <td>1</td>\n      <td>0</td>\n      <td>+</td>\n    </tr>\n    <tr>\n      <th>20</th>\n      <td>1</td>\n      <td>0</td>\n      <td>+</td>\n    </tr>\n    <tr>\n      <th>21</th>\n      <td>1</td>\n      <td>0</td>\n      <td>+</td>\n    </tr>\n    <tr>\n      <th>22</th>\n      <td>1</td>\n      <td>0</td>\n      <td>+</td>\n    </tr>\n    <tr>\n      <th>23</th>\n      <td>1</td>\n      <td>0</td>\n      <td>+</td>\n    </tr>\n    <tr>\n      <th>25</th>\n      <td>0</td>\n      <td>1</td>\n      <td>-</td>\n    </tr>\n    <tr>\n      <th>26</th>\n      <td>2</td>\n      <td>1</td>\n      <td>+</td>\n    </tr>\n    <tr>\n      <th>27</th>\n      <td>0</td>\n      <td>1</td>\n      <td>-</td>\n    </tr>\n    <tr>\n      <th>29</th>\n      <td>2</td>\n      <td>1</td>\n      <td>+</td>\n    </tr>\n    <tr>\n      <th>30</th>\n      <td>1</td>\n      <td>0</td>\n      <td>+</td>\n    </tr>\n    <tr>\n      <th>33</th>\n      <td>2</td>\n      <td>0</td>\n      <td>+</td>\n    </tr>\n  </tbody>\n</table>\n</div>"
     },
     "metadata": {},
     "output_type": "display_data"
    },
    {
     "data": {
      "text/plain": "   sign\n+    16\n-     2",
      "text/html": "<div>\n<style scoped>\n    .dataframe tbody tr th:only-of-type {\n        vertical-align: middle;\n    }\n\n    .dataframe tbody tr th {\n        vertical-align: top;\n    }\n\n    .dataframe thead th {\n        text-align: right;\n    }\n</style>\n<table border=\"1\" class=\"dataframe\">\n  <thead>\n    <tr style=\"text-align: right;\">\n      <th></th>\n      <th>sign</th>\n    </tr>\n  </thead>\n  <tbody>\n    <tr>\n      <th>+</th>\n      <td>16</td>\n    </tr>\n    <tr>\n      <th>-</th>\n      <td>2</td>\n    </tr>\n  </tbody>\n</table>\n</div>"
     },
     "metadata": {},
     "output_type": "display_data"
    }
   ],
   "source": [
    "df['sign'] = (df['anxiety.2'] - df['anxiety.1'])\n",
    "df.drop(df[df['sign'] == 0].index, inplace=True)\n",
    "df['sign'] = np.where(df['sign'] > 0, '-', '+')\n",
    "display(df)\n",
    "display(df['sign'].value_counts().to_frame())"
   ],
   "metadata": {
    "collapsed": false,
    "pycharm": {
     "name": "#%%\n"
    }
   }
  },
  {
   "cell_type": "code",
   "execution_count": 17,
   "outputs": [
    {
     "name": "stdout",
     "output_type": "stream",
     "text": [
      "P = 0.00058.\n",
      "Т.к. P < α = 0.05, то гипотеза отвергается.\n"
     ]
    }
   ],
   "source": [
    "n = 18\n",
    "k = 2\n",
    "\n",
    "prob = comb(n, k) * 1 / (2 ** n)\n",
    "\n",
    "print(f'P = {round(prob, 5)}.')\n",
    "check_hypothesis(round(prob, 5))"
   ],
   "metadata": {
    "collapsed": false,
    "pycharm": {
     "name": "#%%\n"
    }
   }
  }
 ],
 "metadata": {
  "kernelspec": {
   "display_name": "Python 3",
   "language": "python",
   "name": "python3"
  },
  "language_info": {
   "codemirror_mode": {
    "name": "ipython",
    "version": 2
   },
   "file_extension": ".py",
   "mimetype": "text/x-python",
   "name": "python",
   "nbconvert_exporter": "python",
   "pygments_lexer": "ipython2",
   "version": "2.7.6"
  }
 },
 "nbformat": 4,
 "nbformat_minor": 0
}