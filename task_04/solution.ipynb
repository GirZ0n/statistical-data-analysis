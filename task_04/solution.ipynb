{
 "cells":[
  {
   "cell_type":"markdown",
   "source":[
    "# Utils"
   ],
   "attachments":{
    
   },
   "metadata":{
    "datalore":{
     "type":"MD",
     "hide_input_from_viewers":false,
     "hide_output_from_viewers":false,
     "sheet_delimiter":true
    }
   }
  },
  {
   "cell_type":"code",
   "source":[
    "from typing import List, Optional\n",
    "\n",
    "import numpy as np\n",
    "import pandas as pd\n",
    "import plotly.express as px\n",
    "from sklearn.decomposition import PCA\n",
    "from sklearn.preprocessing import StandardScaler"
   ],
   "execution_count":29,
   "outputs":[
    
   ],
   "metadata":{
    "datalore":{
     "type":"CODE",
     "hide_input_from_viewers":false,
     "hide_output_from_viewers":false
    }
   }
  },
  {
   "cell_type":"code",
   "source":[
    "def principal_component_analysis(\n",
    "        data: pd.DataFrame,\n",
    "        n_components: Optional[int] = 3,\n",
    "        drop_columns: List[str] = ['combined1.1', 'combined2.1'],\n",
    "):\n",
    "    data = data.copy()\n",
    "\n",
    "    # X <- na.omit(data[,c(3:20,23:31)])\n",
    "    data.drop(columns=drop_columns, inplace=True)\n",
    "    data.dropna(inplace=True)\n",
    "\n",
    "    # pc <- princomp(scale(X))\n",
    "    scaler = StandardScaler()\n",
    "    scaled_data = scaler.fit_transform(data)\n",
    "\n",
    "    model = PCA(n_components=n_components)\n",
    "    model.fit(scaled_data)\n",
    "\n",
    "    # (pc$sdev\/sum(pc$sdev)*100)[seq(10)]\n",
    "    # Вместо стандартного отклонения есть дисперсия (sigma^2 = D)\n",
    "    variance_contribution = model.explained_variance_ratio_ * 100\n",
    "\n",
    "    # pc$loadings[,seq(3)]\n",
    "    components = pd.DataFrame(model.components_.T, index=data.columns)\n",
    "\n",
    "    # pc$scores\n",
    "    scores = model.transform(scaled_data)\n",
    "\n",
    "    return variance_contribution, components, scores"
   ],
   "execution_count":30,
   "outputs":[
    
   ],
   "metadata":{
    "datalore":{
     "type":"CODE",
     "hide_input_from_viewers":false,
     "hide_output_from_viewers":false
    }
   }
  },
  {
   "cell_type":"code",
   "source":[
    "def compare_component_scores(scores: np.ndarray, first_component_index: int, second_component_index: int) -> None:\n",
    "    fig = px.scatter(\n",
    "        scores,\n",
    "        x=first_component_index,\n",
    "        y=second_component_index,\n",
    "        hover_data={'index': list(range(scores.shape[0]))},\n",
    "    )\n",
    "\n",
    "    fig.update_xaxes(title=f'Компонента №{first_component_index}')\n",
    "    fig.update_yaxes(title=f'Компонента №{second_component_index}')\n",
    "\n",
    "    fig.show()"
   ],
   "execution_count":31,
   "outputs":[
    
   ],
   "metadata":{
    "datalore":{
     "type":"CODE",
     "hide_input_from_viewers":false,
     "hide_output_from_viewers":false
    }
   }
  },
  {
   "cell_type":"markdown",
   "source":[
    "# First day"
   ],
   "attachments":{
    
   },
   "metadata":{
    "datalore":{
     "type":"MD",
     "hide_input_from_viewers":false,
     "hide_output_from_viewers":false,
     "sheet_delimiter":true
    }
   }
  },
  {
   "cell_type":"code",
   "source":[
    "data = pd.read_csv('data_big.csv')\n",
    "data"
   ],
   "execution_count":32,
   "outputs":[
    {
     "data":{
      "text\/html":[
       "<div>\n",
       "<style scoped>\n",
       "    .dataframe tbody tr th:only-of-type {\n",
       "        vertical-align: middle;\n",
       "    }\n",
       "\n",
       "    .dataframe tbody tr th {\n",
       "        vertical-align: top;\n",
       "    }\n",
       "\n",
       "    .dataframe thead th {\n",
       "        text-align: right;\n",
       "    }\n",
       "<\/style>\n",
       "<table border=\"1\" class=\"dataframe\">\n",
       "  <thead>\n",
       "    <tr style=\"text-align: right;\">\n",
       "      <th><\/th>\n",
       "      <th>Unnamed: 0<\/th>\n",
       "      <th>X.1<\/th>\n",
       "      <th>depressed.mood.1<\/th>\n",
       "      <th>anxiety.1<\/th>\n",
       "      <th>suspiciousness.1<\/th>\n",
       "      <th>irritability.1<\/th>\n",
       "      <th>craving.to.alcohol.1<\/th>\n",
       "      <th>weakness.1<\/th>\n",
       "      <th>insomia.1<\/th>\n",
       "      <th>headache.1<\/th>\n",
       "      <th>...<\/th>\n",
       "      <th>combined2.9<\/th>\n",
       "      <th>HR.9<\/th>\n",
       "      <th>SBP.9<\/th>\n",
       "      <th>DBP.9<\/th>\n",
       "      <th>MBP.9<\/th>\n",
       "      <th>SV.9<\/th>\n",
       "      <th>CO.9<\/th>\n",
       "      <th>SI.9<\/th>\n",
       "      <th>CI.9<\/th>\n",
       "      <th>TPR.9<\/th>\n",
       "    <\/tr>\n",
       "  <\/thead>\n",
       "  <tbody>\n",
       "    <tr>\n",
       "      <th>0<\/th>\n",
       "      <td>1<\/td>\n",
       "      <td>1<\/td>\n",
       "      <td>1<\/td>\n",
       "      <td>1<\/td>\n",
       "      <td>0<\/td>\n",
       "      <td>1<\/td>\n",
       "      <td>1<\/td>\n",
       "      <td>1<\/td>\n",
       "      <td>1<\/td>\n",
       "      <td>0<\/td>\n",
       "      <td>...<\/td>\n",
       "      <td>0<\/td>\n",
       "      <td>68.0<\/td>\n",
       "      <td>108.0<\/td>\n",
       "      <td>70.0<\/td>\n",
       "      <td>83.0<\/td>\n",
       "      <td>74.0<\/td>\n",
       "      <td>5.0<\/td>\n",
       "      <td>40.0<\/td>\n",
       "      <td>2.7<\/td>\n",
       "      <td>1321.0<\/td>\n",
       "    <\/tr>\n",
       "    <tr>\n",
       "      <th>1<\/th>\n",
       "      <td>2<\/td>\n",
       "      <td>2<\/td>\n",
       "      <td>1<\/td>\n",
       "      <td>1<\/td>\n",
       "      <td>0<\/td>\n",
       "      <td>0<\/td>\n",
       "      <td>1<\/td>\n",
       "      <td>1<\/td>\n",
       "      <td>2<\/td>\n",
       "      <td>1<\/td>\n",
       "      <td>...<\/td>\n",
       "      <td>9<\/td>\n",
       "      <td>63.0<\/td>\n",
       "      <td>114.0<\/td>\n",
       "      <td>70.0<\/td>\n",
       "      <td>85.0<\/td>\n",
       "      <td>123.0<\/td>\n",
       "      <td>7.7<\/td>\n",
       "      <td>60.0<\/td>\n",
       "      <td>3.8<\/td>\n",
       "      <td>879.0<\/td>\n",
       "    <\/tr>\n",
       "    <tr>\n",
       "      <th>2<\/th>\n",
       "      <td>3<\/td>\n",
       "      <td>3<\/td>\n",
       "      <td>1<\/td>\n",
       "      <td>1<\/td>\n",
       "      <td>0<\/td>\n",
       "      <td>0<\/td>\n",
       "      <td>0<\/td>\n",
       "      <td>2<\/td>\n",
       "      <td>1<\/td>\n",
       "      <td>0<\/td>\n",
       "      <td>...<\/td>\n",
       "      <td>0<\/td>\n",
       "      <td>64.0<\/td>\n",
       "      <td>120.0<\/td>\n",
       "      <td>80.0<\/td>\n",
       "      <td>93.0<\/td>\n",
       "      <td>106.0<\/td>\n",
       "      <td>6.8<\/td>\n",
       "      <td>55.0<\/td>\n",
       "      <td>3.5<\/td>\n",
       "      <td>1098.0<\/td>\n",
       "    <\/tr>\n",
       "    <tr>\n",
       "      <th>3<\/th>\n",
       "      <td>4<\/td>\n",
       "      <td>4<\/td>\n",
       "      <td>2<\/td>\n",
       "      <td>2<\/td>\n",
       "      <td>0<\/td>\n",
       "      <td>0<\/td>\n",
       "      <td>0<\/td>\n",
       "      <td>2<\/td>\n",
       "      <td>0<\/td>\n",
       "      <td>0<\/td>\n",
       "      <td>...<\/td>\n",
       "      <td>0<\/td>\n",
       "      <td>56.0<\/td>\n",
       "      <td>124.0<\/td>\n",
       "      <td>90.0<\/td>\n",
       "      <td>101.0<\/td>\n",
       "      <td>90.0<\/td>\n",
       "      <td>5.1<\/td>\n",
       "      <td>43.0<\/td>\n",
       "      <td>2.4<\/td>\n",
       "      <td>1600.0<\/td>\n",
       "    <\/tr>\n",
       "    <tr>\n",
       "      <th>4<\/th>\n",
       "      <td>5<\/td>\n",
       "      <td>5<\/td>\n",
       "      <td>1<\/td>\n",
       "      <td>1<\/td>\n",
       "      <td>0<\/td>\n",
       "      <td>0<\/td>\n",
       "      <td>2<\/td>\n",
       "      <td>2<\/td>\n",
       "      <td>1<\/td>\n",
       "      <td>0<\/td>\n",
       "      <td>...<\/td>\n",
       "      <td>0<\/td>\n",
       "      <td>66.0<\/td>\n",
       "      <td>116.0<\/td>\n",
       "      <td>78.0<\/td>\n",
       "      <td>90.0<\/td>\n",
       "      <td>90.0<\/td>\n",
       "      <td>5.9<\/td>\n",
       "      <td>45.0<\/td>\n",
       "      <td>2.2<\/td>\n",
       "      <td>1228.0<\/td>\n",
       "    <\/tr>\n",
       "    <tr>\n",
       "      <th>5<\/th>\n",
       "      <td>6<\/td>\n",
       "      <td>6<\/td>\n",
       "      <td>1<\/td>\n",
       "      <td>1<\/td>\n",
       "      <td>0<\/td>\n",
       "      <td>1<\/td>\n",
       "      <td>1<\/td>\n",
       "      <td>2<\/td>\n",
       "      <td>0<\/td>\n",
       "      <td>0<\/td>\n",
       "      <td>...<\/td>\n",
       "      <td>0<\/td>\n",
       "      <td>62.0<\/td>\n",
       "      <td>142.0<\/td>\n",
       "      <td>90.0<\/td>\n",
       "      <td>107.0<\/td>\n",
       "      <td>113.0<\/td>\n",
       "      <td>7.0<\/td>\n",
       "      <td>56.0<\/td>\n",
       "      <td>3.4<\/td>\n",
       "      <td>1225.0<\/td>\n",
       "    <\/tr>\n",
       "    <tr>\n",
       "      <th>6<\/th>\n",
       "      <td>7<\/td>\n",
       "      <td>7<\/td>\n",
       "      <td>1<\/td>\n",
       "      <td>1<\/td>\n",
       "      <td>0<\/td>\n",
       "      <td>1<\/td>\n",
       "      <td>1<\/td>\n",
       "      <td>2<\/td>\n",
       "      <td>2<\/td>\n",
       "      <td>1<\/td>\n",
       "      <td>...<\/td>\n",
       "      <td>0<\/td>\n",
       "      <td>85.0<\/td>\n",
       "      <td>110.0<\/td>\n",
       "      <td>84.0<\/td>\n",
       "      <td>93.0<\/td>\n",
       "      <td>46.0<\/td>\n",
       "      <td>3.9<\/td>\n",
       "      <td>21.0<\/td>\n",
       "      <td>1.8<\/td>\n",
       "      <td>1899.0<\/td>\n",
       "    <\/tr>\n",
       "    <tr>\n",
       "      <th>7<\/th>\n",
       "      <td>8<\/td>\n",
       "      <td>8<\/td>\n",
       "      <td>1<\/td>\n",
       "      <td>1<\/td>\n",
       "      <td>0<\/td>\n",
       "      <td>1<\/td>\n",
       "      <td>0<\/td>\n",
       "      <td>1<\/td>\n",
       "      <td>2<\/td>\n",
       "      <td>1<\/td>\n",
       "      <td>...<\/td>\n",
       "      <td>0<\/td>\n",
       "      <td>68.0<\/td>\n",
       "      <td>134.0<\/td>\n",
       "      <td>88.0<\/td>\n",
       "      <td>103.0<\/td>\n",
       "      <td>74.0<\/td>\n",
       "      <td>6.4<\/td>\n",
       "      <td>33.0<\/td>\n",
       "      <td>2.9<\/td>\n",
       "      <td>1290.0<\/td>\n",
       "    <\/tr>\n",
       "    <tr>\n",
       "      <th>8<\/th>\n",
       "      <td>9<\/td>\n",
       "      <td>9<\/td>\n",
       "      <td>1<\/td>\n",
       "      <td>1<\/td>\n",
       "      <td>0<\/td>\n",
       "      <td>0<\/td>\n",
       "      <td>2<\/td>\n",
       "      <td>1<\/td>\n",
       "      <td>0<\/td>\n",
       "      <td>0<\/td>\n",
       "      <td>...<\/td>\n",
       "      <td>0<\/td>\n",
       "      <td>76.0<\/td>\n",
       "      <td>134.0<\/td>\n",
       "      <td>76.0<\/td>\n",
       "      <td>96.0<\/td>\n",
       "      <td>116.0<\/td>\n",
       "      <td>8.6<\/td>\n",
       "      <td>60.0<\/td>\n",
       "      <td>4.4<\/td>\n",
       "      <td>886.0<\/td>\n",
       "    <\/tr>\n",
       "    <tr>\n",
       "      <th>9<\/th>\n",
       "      <td>10<\/td>\n",
       "      <td>10<\/td>\n",
       "      <td>1<\/td>\n",
       "      <td>1<\/td>\n",
       "      <td>0<\/td>\n",
       "      <td>1<\/td>\n",
       "      <td>1<\/td>\n",
       "      <td>1<\/td>\n",
       "      <td>2<\/td>\n",
       "      <td>1<\/td>\n",
       "      <td>...<\/td>\n",
       "      <td>0<\/td>\n",
       "      <td>64.0<\/td>\n",
       "      <td>110.0<\/td>\n",
       "      <td>70.0<\/td>\n",
       "      <td>83.0<\/td>\n",
       "      <td>43.0<\/td>\n",
       "      <td>2.7<\/td>\n",
       "      <td>27.0<\/td>\n",
       "      <td>1.7<\/td>\n",
       "      <td>2467.0<\/td>\n",
       "    <\/tr>\n",
       "    <tr>\n",
       "      <th>10<\/th>\n",
       "      <td>11<\/td>\n",
       "      <td>11<\/td>\n",
       "      <td>1<\/td>\n",
       "      <td>1<\/td>\n",
       "      <td>0<\/td>\n",
       "      <td>1<\/td>\n",
       "      <td>1<\/td>\n",
       "      <td>1<\/td>\n",
       "      <td>1<\/td>\n",
       "      <td>0<\/td>\n",
       "      <td>...<\/td>\n",
       "      <td>0<\/td>\n",
       "      <td>83.0<\/td>\n",
       "      <td>124.0<\/td>\n",
       "      <td>76.0<\/td>\n",
       "      <td>92.0<\/td>\n",
       "      <td>59.0<\/td>\n",
       "      <td>4.9<\/td>\n",
       "      <td>30.0<\/td>\n",
       "      <td>2.6<\/td>\n",
       "      <td>1500.0<\/td>\n",
       "    <\/tr>\n",
       "    <tr>\n",
       "      <th>11<\/th>\n",
       "      <td>12<\/td>\n",
       "      <td>12<\/td>\n",
       "      <td>1<\/td>\n",
       "      <td>1<\/td>\n",
       "      <td>0<\/td>\n",
       "      <td>1<\/td>\n",
       "      <td>1<\/td>\n",
       "      <td>2<\/td>\n",
       "      <td>0<\/td>\n",
       "      <td>1<\/td>\n",
       "      <td>...<\/td>\n",
       "      <td>0<\/td>\n",
       "      <td>50.0<\/td>\n",
       "      <td>118.0<\/td>\n",
       "      <td>70.0<\/td>\n",
       "      <td>86.0<\/td>\n",
       "      <td>130.0<\/td>\n",
       "      <td>6.5<\/td>\n",
       "      <td>69.0<\/td>\n",
       "      <td>3.5<\/td>\n",
       "      <td>1057.0<\/td>\n",
       "    <\/tr>\n",
       "    <tr>\n",
       "      <th>12<\/th>\n",
       "      <td>13<\/td>\n",
       "      <td>13<\/td>\n",
       "      <td>1<\/td>\n",
       "      <td>1<\/td>\n",
       "      <td>0<\/td>\n",
       "      <td>1<\/td>\n",
       "      <td>1<\/td>\n",
       "      <td>2<\/td>\n",
       "      <td>2<\/td>\n",
       "      <td>0<\/td>\n",
       "      <td>...<\/td>\n",
       "      <td>2<\/td>\n",
       "      <td>66.0<\/td>\n",
       "      <td>110.0<\/td>\n",
       "      <td>70.0<\/td>\n",
       "      <td>83.0<\/td>\n",
       "      <td>106.0<\/td>\n",
       "      <td>7.0<\/td>\n",
       "      <td>56.0<\/td>\n",
       "      <td>3.7<\/td>\n",
       "      <td>942.0<\/td>\n",
       "    <\/tr>\n",
       "    <tr>\n",
       "      <th>13<\/th>\n",
       "      <td>14<\/td>\n",
       "      <td>14<\/td>\n",
       "      <td>1<\/td>\n",
       "      <td>1<\/td>\n",
       "      <td>0<\/td>\n",
       "      <td>0<\/td>\n",
       "      <td>2<\/td>\n",
       "      <td>2<\/td>\n",
       "      <td>2<\/td>\n",
       "      <td>0<\/td>\n",
       "      <td>...<\/td>\n",
       "      <td>2<\/td>\n",
       "      <td>64.0<\/td>\n",
       "      <td>140.0<\/td>\n",
       "      <td>84.0<\/td>\n",
       "      <td>103.0<\/td>\n",
       "      <td>124.0<\/td>\n",
       "      <td>7.9<\/td>\n",
       "      <td>69.0<\/td>\n",
       "      <td>4.4<\/td>\n",
       "      <td>1039.0<\/td>\n",
       "    <\/tr>\n",
       "    <tr>\n",
       "      <th>14<\/th>\n",
       "      <td>15<\/td>\n",
       "      <td>15<\/td>\n",
       "      <td>1<\/td>\n",
       "      <td>1<\/td>\n",
       "      <td>0<\/td>\n",
       "      <td>1<\/td>\n",
       "      <td>1<\/td>\n",
       "      <td>2<\/td>\n",
       "      <td>1<\/td>\n",
       "      <td>0<\/td>\n",
       "      <td>...<\/td>\n",
       "      <td>0<\/td>\n",
       "      <td>84.0<\/td>\n",
       "      <td>114.0<\/td>\n",
       "      <td>84.0<\/td>\n",
       "      <td>94.0<\/td>\n",
       "      <td>69.0<\/td>\n",
       "      <td>6.0<\/td>\n",
       "      <td>41.0<\/td>\n",
       "      <td>3.6<\/td>\n",
       "      <td>1256.0<\/td>\n",
       "    <\/tr>\n",
       "    <tr>\n",
       "      <th>15<\/th>\n",
       "      <td>16<\/td>\n",
       "      <td>16<\/td>\n",
       "      <td>1<\/td>\n",
       "      <td>1<\/td>\n",
       "      <td>0<\/td>\n",
       "      <td>0<\/td>\n",
       "      <td>1<\/td>\n",
       "      <td>1<\/td>\n",
       "      <td>2<\/td>\n",
       "      <td>0<\/td>\n",
       "      <td>...<\/td>\n",
       "      <td>0<\/td>\n",
       "      <td>74.0<\/td>\n",
       "      <td>100.0<\/td>\n",
       "      <td>70.0<\/td>\n",
       "      <td>80.0<\/td>\n",
       "      <td>74.0<\/td>\n",
       "      <td>5.5<\/td>\n",
       "      <td>44.0<\/td>\n",
       "      <td>3.2<\/td>\n",
       "      <td>1162.0<\/td>\n",
       "    <\/tr>\n",
       "    <tr>\n",
       "      <th>16<\/th>\n",
       "      <td>17<\/td>\n",
       "      <td>17<\/td>\n",
       "      <td>1<\/td>\n",
       "      <td>1<\/td>\n",
       "      <td>0<\/td>\n",
       "      <td>0<\/td>\n",
       "      <td>1<\/td>\n",
       "      <td>2<\/td>\n",
       "      <td>1<\/td>\n",
       "      <td>0<\/td>\n",
       "      <td>...<\/td>\n",
       "      <td>0<\/td>\n",
       "      <td>68.0<\/td>\n",
       "      <td>114.0<\/td>\n",
       "      <td>76.0<\/td>\n",
       "      <td>88.0<\/td>\n",
       "      <td>63.0<\/td>\n",
       "      <td>4.3<\/td>\n",
       "      <td>34.0<\/td>\n",
       "      <td>2.3<\/td>\n",
       "      <td>1649.0<\/td>\n",
       "    <\/tr>\n",
       "    <tr>\n",
       "      <th>17<\/th>\n",
       "      <td>18<\/td>\n",
       "      <td>18<\/td>\n",
       "      <td>1<\/td>\n",
       "      <td>1<\/td>\n",
       "      <td>0<\/td>\n",
       "      <td>0<\/td>\n",
       "      <td>0<\/td>\n",
       "      <td>0<\/td>\n",
       "      <td>2<\/td>\n",
       "      <td>1<\/td>\n",
       "      <td>...<\/td>\n",
       "      <td>0<\/td>\n",
       "      <td>64.0<\/td>\n",
       "      <td>102.0<\/td>\n",
       "      <td>80.0<\/td>\n",
       "      <td>87.0<\/td>\n",
       "      <td>47.0<\/td>\n",
       "      <td>3.0<\/td>\n",
       "      <td>28.0<\/td>\n",
       "      <td>1.8<\/td>\n",
       "      <td>2325.0<\/td>\n",
       "    <\/tr>\n",
       "    <tr>\n",
       "      <th>18<\/th>\n",
       "      <td>19<\/td>\n",
       "      <td>19<\/td>\n",
       "      <td>1<\/td>\n",
       "      <td>1<\/td>\n",
       "      <td>0<\/td>\n",
       "      <td>0<\/td>\n",
       "      <td>0<\/td>\n",
       "      <td>1<\/td>\n",
       "      <td>1<\/td>\n",
       "      <td>1<\/td>\n",
       "      <td>...<\/td>\n",
       "      <td>0<\/td>\n",
       "      <td>68.0<\/td>\n",
       "      <td>108.0<\/td>\n",
       "      <td>72.0<\/td>\n",
       "      <td>84.0<\/td>\n",
       "      <td>97.0<\/td>\n",
       "      <td>6.6<\/td>\n",
       "      <td>55.0<\/td>\n",
       "      <td>3.8<\/td>\n",
       "      <td>1017.0<\/td>\n",
       "    <\/tr>\n",
       "    <tr>\n",
       "      <th>19<\/th>\n",
       "      <td>20<\/td>\n",
       "      <td>20<\/td>\n",
       "      <td>2<\/td>\n",
       "      <td>1<\/td>\n",
       "      <td>0<\/td>\n",
       "      <td>0<\/td>\n",
       "      <td>0<\/td>\n",
       "      <td>0<\/td>\n",
       "      <td>2<\/td>\n",
       "      <td>0<\/td>\n",
       "      <td>...<\/td>\n",
       "      <td>0<\/td>\n",
       "      <td>74.0<\/td>\n",
       "      <td>130.0<\/td>\n",
       "      <td>80.0<\/td>\n",
       "      <td>97.0<\/td>\n",
       "      <td>104.0<\/td>\n",
       "      <td>7.7<\/td>\n",
       "      <td>54.0<\/td>\n",
       "      <td>4.0<\/td>\n",
       "      <td>1004.0<\/td>\n",
       "    <\/tr>\n",
       "    <tr>\n",
       "      <th>20<\/th>\n",
       "      <td>21<\/td>\n",
       "      <td>21<\/td>\n",
       "      <td>1<\/td>\n",
       "      <td>1<\/td>\n",
       "      <td>0<\/td>\n",
       "      <td>0<\/td>\n",
       "      <td>1<\/td>\n",
       "      <td>2<\/td>\n",
       "      <td>0<\/td>\n",
       "      <td>0<\/td>\n",
       "      <td>...<\/td>\n",
       "      <td>0<\/td>\n",
       "      <td>81.0<\/td>\n",
       "      <td>116.0<\/td>\n",
       "      <td>82.0<\/td>\n",
       "      <td>93.0<\/td>\n",
       "      <td>43.0<\/td>\n",
       "      <td>3.5<\/td>\n",
       "      <td>26.0<\/td>\n",
       "      <td>2.1<\/td>\n",
       "      <td>2150.0<\/td>\n",
       "    <\/tr>\n",
       "    <tr>\n",
       "      <th>21<\/th>\n",
       "      <td>22<\/td>\n",
       "      <td>22<\/td>\n",
       "      <td>1<\/td>\n",
       "      <td>1<\/td>\n",
       "      <td>0<\/td>\n",
       "      <td>1<\/td>\n",
       "      <td>1<\/td>\n",
       "      <td>1<\/td>\n",
       "      <td>2<\/td>\n",
       "      <td>1<\/td>\n",
       "      <td>...<\/td>\n",
       "      <td>0<\/td>\n",
       "      <td>45.0<\/td>\n",
       "      <td>108.0<\/td>\n",
       "      <td>74.0<\/td>\n",
       "      <td>85.0<\/td>\n",
       "      <td>101.0<\/td>\n",
       "      <td>4.5<\/td>\n",
       "      <td>53.0<\/td>\n",
       "      <td>2.4<\/td>\n",
       "      <td>2398.0<\/td>\n",
       "    <\/tr>\n",
       "    <tr>\n",
       "      <th>22<\/th>\n",
       "      <td>23<\/td>\n",
       "      <td>23<\/td>\n",
       "      <td>1<\/td>\n",
       "      <td>1<\/td>\n",
       "      <td>0<\/td>\n",
       "      <td>0<\/td>\n",
       "      <td>0<\/td>\n",
       "      <td>2<\/td>\n",
       "      <td>2<\/td>\n",
       "      <td>0<\/td>\n",
       "      <td>...<\/td>\n",
       "      <td>2<\/td>\n",
       "      <td>75.0<\/td>\n",
       "      <td>120.0<\/td>\n",
       "      <td>66.0<\/td>\n",
       "      <td>84.0<\/td>\n",
       "      <td>59.0<\/td>\n",
       "      <td>4.4<\/td>\n",
       "      <td>29.0<\/td>\n",
       "      <td>2.2<\/td>\n",
       "      <td>1526.0<\/td>\n",
       "    <\/tr>\n",
       "    <tr>\n",
       "      <th>23<\/th>\n",
       "      <td>24<\/td>\n",
       "      <td>24<\/td>\n",
       "      <td>1<\/td>\n",
       "      <td>1<\/td>\n",
       "      <td>0<\/td>\n",
       "      <td>0<\/td>\n",
       "      <td>0<\/td>\n",
       "      <td>1<\/td>\n",
       "      <td>0<\/td>\n",
       "      <td>0<\/td>\n",
       "      <td>...<\/td>\n",
       "      <td>0<\/td>\n",
       "      <td>72.0<\/td>\n",
       "      <td>114.0<\/td>\n",
       "      <td>64.0<\/td>\n",
       "      <td>81.0<\/td>\n",
       "      <td>127.0<\/td>\n",
       "      <td>9.1<\/td>\n",
       "      <td>60.0<\/td>\n",
       "      <td>4.3<\/td>\n",
       "      <td>708.0<\/td>\n",
       "    <\/tr>\n",
       "    <tr>\n",
       "      <th>24<\/th>\n",
       "      <td>25<\/td>\n",
       "      <td>25<\/td>\n",
       "      <td>1<\/td>\n",
       "      <td>0<\/td>\n",
       "      <td>0<\/td>\n",
       "      <td>0<\/td>\n",
       "      <td>0<\/td>\n",
       "      <td>1<\/td>\n",
       "      <td>1<\/td>\n",
       "      <td>1<\/td>\n",
       "      <td>...<\/td>\n",
       "      <td>0<\/td>\n",
       "      <td>73.0<\/td>\n",
       "      <td>116.0<\/td>\n",
       "      <td>78.0<\/td>\n",
       "      <td>91.0<\/td>\n",
       "      <td>90.0<\/td>\n",
       "      <td>6.6<\/td>\n",
       "      <td>47.0<\/td>\n",
       "      <td>3.4<\/td>\n",
       "      <td>1098.0<\/td>\n",
       "    <\/tr>\n",
       "    <tr>\n",
       "      <th>25<\/th>\n",
       "      <td>26<\/td>\n",
       "      <td>26<\/td>\n",
       "      <td>2<\/td>\n",
       "      <td>0<\/td>\n",
       "      <td>0<\/td>\n",
       "      <td>0<\/td>\n",
       "      <td>1<\/td>\n",
       "      <td>2<\/td>\n",
       "      <td>0<\/td>\n",
       "      <td>0<\/td>\n",
       "      <td>...<\/td>\n",
       "      <td>0<\/td>\n",
       "      <td>79.0<\/td>\n",
       "      <td>126.0<\/td>\n",
       "      <td>80.0<\/td>\n",
       "      <td>95.0<\/td>\n",
       "      <td>82.0<\/td>\n",
       "      <td>6.5<\/td>\n",
       "      <td>43.0<\/td>\n",
       "      <td>3.4<\/td>\n",
       "      <td>1172.0<\/td>\n",
       "    <\/tr>\n",
       "    <tr>\n",
       "      <th>26<\/th>\n",
       "      <td>27<\/td>\n",
       "      <td>27<\/td>\n",
       "      <td>1<\/td>\n",
       "      <td>2<\/td>\n",
       "      <td>0<\/td>\n",
       "      <td>0<\/td>\n",
       "      <td>1<\/td>\n",
       "      <td>0<\/td>\n",
       "      <td>1<\/td>\n",
       "      <td>0<\/td>\n",
       "      <td>...<\/td>\n",
       "      <td>4<\/td>\n",
       "      <td>83.0<\/td>\n",
       "      <td>138.0<\/td>\n",
       "      <td>88.0<\/td>\n",
       "      <td>105.0<\/td>\n",
       "      <td>77.0<\/td>\n",
       "      <td>6.4<\/td>\n",
       "      <td>36.0<\/td>\n",
       "      <td>3.0<\/td>\n",
       "      <td>1316.0<\/td>\n",
       "    <\/tr>\n",
       "    <tr>\n",
       "      <th>27<\/th>\n",
       "      <td>28<\/td>\n",
       "      <td>28<\/td>\n",
       "      <td>2<\/td>\n",
       "      <td>0<\/td>\n",
       "      <td>0<\/td>\n",
       "      <td>2<\/td>\n",
       "      <td>1<\/td>\n",
       "      <td>2<\/td>\n",
       "      <td>2<\/td>\n",
       "      <td>2<\/td>\n",
       "      <td>...<\/td>\n",
       "      <td>0<\/td>\n",
       "      <td>73.0<\/td>\n",
       "      <td>126.0<\/td>\n",
       "      <td>88.0<\/td>\n",
       "      <td>101.0<\/td>\n",
       "      <td>86.0<\/td>\n",
       "      <td>6.3<\/td>\n",
       "      <td>47.0<\/td>\n",
       "      <td>3.9<\/td>\n",
       "      <td>1277.0<\/td>\n",
       "    <\/tr>\n",
       "    <tr>\n",
       "      <th>28<\/th>\n",
       "      <td>29<\/td>\n",
       "      <td>29<\/td>\n",
       "      <td>1<\/td>\n",
       "      <td>0<\/td>\n",
       "      <td>0<\/td>\n",
       "      <td>0<\/td>\n",
       "      <td>0<\/td>\n",
       "      <td>1<\/td>\n",
       "      <td>2<\/td>\n",
       "      <td>1<\/td>\n",
       "      <td>...<\/td>\n",
       "      <td>0<\/td>\n",
       "      <td>75.0<\/td>\n",
       "      <td>124.0<\/td>\n",
       "      <td>70.0<\/td>\n",
       "      <td>88.0<\/td>\n",
       "      <td>83.0<\/td>\n",
       "      <td>6.2<\/td>\n",
       "      <td>44.0<\/td>\n",
       "      <td>3.3<\/td>\n",
       "      <td>1134.0<\/td>\n",
       "    <\/tr>\n",
       "    <tr>\n",
       "      <th>29<\/th>\n",
       "      <td>30<\/td>\n",
       "      <td>30<\/td>\n",
       "      <td>2<\/td>\n",
       "      <td>2<\/td>\n",
       "      <td>0<\/td>\n",
       "      <td>1<\/td>\n",
       "      <td>2<\/td>\n",
       "      <td>2<\/td>\n",
       "      <td>2<\/td>\n",
       "      <td>1<\/td>\n",
       "      <td>...<\/td>\n",
       "      <td>0<\/td>\n",
       "      <td>63.0<\/td>\n",
       "      <td>110.0<\/td>\n",
       "      <td>84.0<\/td>\n",
       "      <td>93.0<\/td>\n",
       "      <td>79.0<\/td>\n",
       "      <td>5.0<\/td>\n",
       "      <td>41.0<\/td>\n",
       "      <td>2.6<\/td>\n",
       "      <td>1481.0<\/td>\n",
       "    <\/tr>\n",
       "    <tr>\n",
       "      <th>30<\/th>\n",
       "      <td>31<\/td>\n",
       "      <td>31<\/td>\n",
       "      <td>1<\/td>\n",
       "      <td>1<\/td>\n",
       "      <td>0<\/td>\n",
       "      <td>1<\/td>\n",
       "      <td>0<\/td>\n",
       "      <td>1<\/td>\n",
       "      <td>2<\/td>\n",
       "      <td>0<\/td>\n",
       "      <td>...<\/td>\n",
       "      <td>0<\/td>\n",
       "      <td>84.0<\/td>\n",
       "      <td>124.0<\/td>\n",
       "      <td>80.0<\/td>\n",
       "      <td>95.0<\/td>\n",
       "      <td>51.0<\/td>\n",
       "      <td>4.3<\/td>\n",
       "      <td>24.0<\/td>\n",
       "      <td>2.0<\/td>\n",
       "      <td>1747.0<\/td>\n",
       "    <\/tr>\n",
       "    <tr>\n",
       "      <th>31<\/th>\n",
       "      <td>32<\/td>\n",
       "      <td>32<\/td>\n",
       "      <td>1<\/td>\n",
       "      <td>0<\/td>\n",
       "      <td>0<\/td>\n",
       "      <td>0<\/td>\n",
       "      <td>0<\/td>\n",
       "      <td>1<\/td>\n",
       "      <td>2<\/td>\n",
       "      <td>0<\/td>\n",
       "      <td>...<\/td>\n",
       "      <td>2<\/td>\n",
       "      <td>45.0<\/td>\n",
       "      <td>118.0<\/td>\n",
       "      <td>68.0<\/td>\n",
       "      <td>85.0<\/td>\n",
       "      <td>74.0<\/td>\n",
       "      <td>3.3<\/td>\n",
       "      <td>39.0<\/td>\n",
       "      <td>1.8<\/td>\n",
       "      <td>2032.0<\/td>\n",
       "    <\/tr>\n",
       "    <tr>\n",
       "      <th>32<\/th>\n",
       "      <td>33<\/td>\n",
       "      <td>33<\/td>\n",
       "      <td>1<\/td>\n",
       "      <td>1<\/td>\n",
       "      <td>0<\/td>\n",
       "      <td>0<\/td>\n",
       "      <td>1<\/td>\n",
       "      <td>1<\/td>\n",
       "      <td>1<\/td>\n",
       "      <td>0<\/td>\n",
       "      <td>...<\/td>\n",
       "      <td>0<\/td>\n",
       "      <td>76.0<\/td>\n",
       "      <td>132.0<\/td>\n",
       "      <td>78.0<\/td>\n",
       "      <td>96.0<\/td>\n",
       "      <td>NaN<\/td>\n",
       "      <td>NaN<\/td>\n",
       "      <td>NaN<\/td>\n",
       "      <td>NaN<\/td>\n",
       "      <td>NaN<\/td>\n",
       "    <\/tr>\n",
       "    <tr>\n",
       "      <th>33<\/th>\n",
       "      <td>34<\/td>\n",
       "      <td>34<\/td>\n",
       "      <td>2<\/td>\n",
       "      <td>2<\/td>\n",
       "      <td>1<\/td>\n",
       "      <td>0<\/td>\n",
       "      <td>2<\/td>\n",
       "      <td>2<\/td>\n",
       "      <td>2<\/td>\n",
       "      <td>2<\/td>\n",
       "      <td>...<\/td>\n",
       "      <td>0<\/td>\n",
       "      <td>NaN<\/td>\n",
       "      <td>NaN<\/td>\n",
       "      <td>NaN<\/td>\n",
       "      <td>NaN<\/td>\n",
       "      <td>NaN<\/td>\n",
       "      <td>NaN<\/td>\n",
       "      <td>NaN<\/td>\n",
       "      <td>NaN<\/td>\n",
       "      <td>NaN<\/td>\n",
       "    <\/tr>\n",
       "  <\/tbody>\n",
       "<\/table>\n",
       "<p>34 rows × 121 columns<\/p>\n",
       "<\/div>"
      ]
     },
     "metadata":{
      
     },
     "output_type":"display_data"
    }
   ],
   "metadata":{
    "datalore":{
     "type":"CODE",
     "hide_input_from_viewers":false,
     "hide_output_from_viewers":false
    }
   }
  },
  {
   "cell_type":"code",
   "source":[
    "first_day = data.iloc[:, 2:31]\n",
    "first_day_variance_contribution, first_day_components, first_day_scores = principal_component_analysis(first_day)"
   ],
   "execution_count":33,
   "outputs":[
    
   ],
   "metadata":{
    "datalore":{
     "type":"CODE",
     "hide_input_from_viewers":false,
     "hide_output_from_viewers":false
    }
   }
  },
  {
   "cell_type":"code",
   "source":[
    "first_day_variance_contribution"
   ],
   "execution_count":34,
   "outputs":[
    {
     "data":{
      "text\/html":[
       
      ]
     },
     "metadata":{
      
     },
     "output_type":"display_data"
    }
   ],
   "metadata":{
    "datalore":{
     "type":"CODE",
     "hide_input_from_viewers":false,
     "hide_output_from_viewers":false
    }
   }
  },
  {
   "cell_type":"code",
   "source":[
    "first_day_components"
   ],
   "execution_count":35,
   "outputs":[
    {
     "data":{
      "text\/html":[
       "<div>\n",
       "<style scoped>\n",
       "    .dataframe tbody tr th:only-of-type {\n",
       "        vertical-align: middle;\n",
       "    }\n",
       "\n",
       "    .dataframe tbody tr th {\n",
       "        vertical-align: top;\n",
       "    }\n",
       "\n",
       "    .dataframe thead th {\n",
       "        text-align: right;\n",
       "    }\n",
       "<\/style>\n",
       "<table border=\"1\" class=\"dataframe\">\n",
       "  <thead>\n",
       "    <tr style=\"text-align: right;\">\n",
       "      <th><\/th>\n",
       "      <th>0<\/th>\n",
       "      <th>1<\/th>\n",
       "      <th>2<\/th>\n",
       "    <\/tr>\n",
       "  <\/thead>\n",
       "  <tbody>\n",
       "    <tr>\n",
       "      <th>depressed.mood.1<\/th>\n",
       "      <td>-0.185961<\/td>\n",
       "      <td>0.109399<\/td>\n",
       "      <td>0.208067<\/td>\n",
       "    <\/tr>\n",
       "    <tr>\n",
       "      <th>anxiety.1<\/th>\n",
       "      <td>-0.062101<\/td>\n",
       "      <td>0.062217<\/td>\n",
       "      <td>0.098085<\/td>\n",
       "    <\/tr>\n",
       "    <tr>\n",
       "      <th>suspiciousness.1<\/th>\n",
       "      <td>-0.064675<\/td>\n",
       "      <td>0.271265<\/td>\n",
       "      <td>0.293979<\/td>\n",
       "    <\/tr>\n",
       "    <tr>\n",
       "      <th>irritability.1<\/th>\n",
       "      <td>-0.049026<\/td>\n",
       "      <td>0.146249<\/td>\n",
       "      <td>-0.017966<\/td>\n",
       "    <\/tr>\n",
       "    <tr>\n",
       "      <th>craving.to.alcohol.1<\/th>\n",
       "      <td>-0.160420<\/td>\n",
       "      <td>0.278009<\/td>\n",
       "      <td>-0.150759<\/td>\n",
       "    <\/tr>\n",
       "    <tr>\n",
       "      <th>weakness.1<\/th>\n",
       "      <td>-0.156399<\/td>\n",
       "      <td>0.136650<\/td>\n",
       "      <td>-0.139019<\/td>\n",
       "    <\/tr>\n",
       "    <tr>\n",
       "      <th>insomia.1<\/th>\n",
       "      <td>0.001480<\/td>\n",
       "      <td>0.065864<\/td>\n",
       "      <td>0.404339<\/td>\n",
       "    <\/tr>\n",
       "    <tr>\n",
       "      <th>headache.1<\/th>\n",
       "      <td>0.021112<\/td>\n",
       "      <td>0.272655<\/td>\n",
       "      <td>0.314640<\/td>\n",
       "    <\/tr>\n",
       "    <tr>\n",
       "      <th>tremor.1<\/th>\n",
       "      <td>-0.069909<\/td>\n",
       "      <td>0.292130<\/td>\n",
       "      <td>-0.180044<\/td>\n",
       "    <\/tr>\n",
       "    <tr>\n",
       "      <th>polyuria.1<\/th>\n",
       "      <td>0.034275<\/td>\n",
       "      <td>0.074385<\/td>\n",
       "      <td>0.261947<\/td>\n",
       "    <\/tr>\n",
       "    <tr>\n",
       "      <th>sweating.1<\/th>\n",
       "      <td>0.184844<\/td>\n",
       "      <td>0.174365<\/td>\n",
       "      <td>0.022644<\/td>\n",
       "    <\/tr>\n",
       "    <tr>\n",
       "      <th>transient.hallusinations.1<\/th>\n",
       "      <td>-0.012719<\/td>\n",
       "      <td>0.163683<\/td>\n",
       "      <td>0.213997<\/td>\n",
       "    <\/tr>\n",
       "    <tr>\n",
       "      <th>vomiting.1<\/th>\n",
       "      <td>-0.149474<\/td>\n",
       "      <td>0.262921<\/td>\n",
       "      <td>0.129693<\/td>\n",
       "    <\/tr>\n",
       "    <tr>\n",
       "      <th>anoreksia.1<\/th>\n",
       "      <td>-0.213481<\/td>\n",
       "      <td>0.069921<\/td>\n",
       "      <td>0.028231<\/td>\n",
       "    <\/tr>\n",
       "    <tr>\n",
       "      <th>diarrhea.1<\/th>\n",
       "      <td>-0.102552<\/td>\n",
       "      <td>0.228505<\/td>\n",
       "      <td>0.228759<\/td>\n",
       "    <\/tr>\n",
       "    <tr>\n",
       "      <th>thirst.1<\/th>\n",
       "      <td>-0.059155<\/td>\n",
       "      <td>0.231991<\/td>\n",
       "      <td>0.151790<\/td>\n",
       "    <\/tr>\n",
       "    <tr>\n",
       "      <th>chest.pain.1<\/th>\n",
       "      <td>-0.079746<\/td>\n",
       "      <td>0.000995<\/td>\n",
       "      <td>0.072854<\/td>\n",
       "    <\/tr>\n",
       "    <tr>\n",
       "      <th>hyperemia.1<\/th>\n",
       "      <td>-0.187020<\/td>\n",
       "      <td>0.225641<\/td>\n",
       "      <td>-0.162743<\/td>\n",
       "    <\/tr>\n",
       "    <tr>\n",
       "      <th>HR.1<\/th>\n",
       "      <td>-0.201318<\/td>\n",
       "      <td>0.073842<\/td>\n",
       "      <td>-0.240943<\/td>\n",
       "    <\/tr>\n",
       "    <tr>\n",
       "      <th>SBP.1<\/th>\n",
       "      <td>-0.067159<\/td>\n",
       "      <td>0.315922<\/td>\n",
       "      <td>-0.244113<\/td>\n",
       "    <\/tr>\n",
       "    <tr>\n",
       "      <th>DBP.1<\/th>\n",
       "      <td>-0.231029<\/td>\n",
       "      <td>0.135242<\/td>\n",
       "      <td>-0.214633<\/td>\n",
       "    <\/tr>\n",
       "    <tr>\n",
       "      <th>MBP.1<\/th>\n",
       "      <td>-0.039407<\/td>\n",
       "      <td>0.233747<\/td>\n",
       "      <td>-0.239110<\/td>\n",
       "    <\/tr>\n",
       "    <tr>\n",
       "      <th>SV.1<\/th>\n",
       "      <td>0.375898<\/td>\n",
       "      <td>0.138661<\/td>\n",
       "      <td>0.061732<\/td>\n",
       "    <\/tr>\n",
       "    <tr>\n",
       "      <th>CO.1<\/th>\n",
       "      <td>0.345339<\/td>\n",
       "      <td>0.206766<\/td>\n",
       "      <td>-0.173742<\/td>\n",
       "    <\/tr>\n",
       "    <tr>\n",
       "      <th>SI.1<\/th>\n",
       "      <td>0.381605<\/td>\n",
       "      <td>0.129572<\/td>\n",
       "      <td>0.010574<\/td>\n",
       "    <\/tr>\n",
       "    <tr>\n",
       "      <th>CI.1<\/th>\n",
       "      <td>0.338751<\/td>\n",
       "      <td>0.225518<\/td>\n",
       "      <td>-0.162914<\/td>\n",
       "    <\/tr>\n",
       "    <tr>\n",
       "      <th>TPR.1<\/th>\n",
       "      <td>-0.346082<\/td>\n",
       "      <td>-0.166428<\/td>\n",
       "      <td>0.046286<\/td>\n",
       "    <\/tr>\n",
       "  <\/tbody>\n",
       "<\/table>\n",
       "<\/div>"
      ]
     },
     "metadata":{
      
     },
     "output_type":"display_data"
    }
   ],
   "metadata":{
    "datalore":{
     "type":"CODE",
     "hide_input_from_viewers":false,
     "hide_output_from_viewers":false
    }
   }
  },
  {
   "cell_type":"code",
   "source":[
    "first_day_components[abs(first_day_components[0]) > 0.2][0]"
   ],
   "execution_count":36,
   "outputs":[
    {
     "data":{
      "text\/html":[
       
      ]
     },
     "metadata":{
      
     },
     "output_type":"display_data"
    }
   ],
   "metadata":{
    "datalore":{
     "type":"CODE",
     "hide_input_from_viewers":false,
     "hide_output_from_viewers":false
    }
   }
  },
  {
   "cell_type":"code",
   "source":[
    "first_day_components[abs(first_day_components[1]) > 0.25][1]"
   ],
   "execution_count":37,
   "outputs":[
    {
     "data":{
      "text\/html":[
       
      ]
     },
     "metadata":{
      
     },
     "output_type":"display_data"
    }
   ],
   "metadata":{
    "datalore":{
     "type":"CODE",
     "hide_input_from_viewers":false,
     "hide_output_from_viewers":false
    }
   }
  },
  {
   "cell_type":"code",
   "source":[
    "first_day_components[abs(first_day_components[2]) > 0.22][2]"
   ],
   "execution_count":38,
   "outputs":[
    {
     "data":{
      "text\/html":[
       
      ]
     },
     "metadata":{
      
     },
     "output_type":"display_data"
    }
   ],
   "metadata":{
    "datalore":{
     "type":"CODE",
     "hide_input_from_viewers":false,
     "hide_output_from_viewers":false
    }
   }
  },
  {
   "cell_type":"code",
   "source":[
    "first_day_scores"
   ],
   "execution_count":39,
   "outputs":[
    {
     "data":{
      "text\/html":[
       
      ]
     },
     "metadata":{
      
     },
     "output_type":"display_data"
    }
   ],
   "metadata":{
    "datalore":{
     "type":"CODE",
     "hide_input_from_viewers":false,
     "hide_output_from_viewers":false
    }
   }
  },
  {
   "cell_type":"code",
   "source":[
    "# plot(pc$scores[,1], pc$scores[,2])\n",
    "# Картинка зеркально отображена относительно x=0 из-за противоположной направленности нулевой (первой) компоненты\n",
    "\n",
    "compare_component_scores(first_day_scores, 0, 1)"
   ],
   "execution_count":40,
   "outputs":[
    {
     "data":{
      "text\/plain":[
       "Unsupported"
      ]
     },
     "metadata":{
      
     },
     "output_type":"display_data"
    }
   ],
   "metadata":{
    "datalore":{
     "type":"CODE",
     "hide_input_from_viewers":false,
     "hide_output_from_viewers":false
    }
   }
  },
  {
   "cell_type":"code",
   "source":[
    "# plot(pc$scores[,1], pc$scores[,3])\n",
    "# Картинка зеркально отображена относительно x=0 из-за противоположной направленности нулевой (первой) компоненты\n",
    "\n",
    "compare_component_scores(first_day_scores, 0, 2)"
   ],
   "execution_count":41,
   "outputs":[
    {
     "data":{
      "text\/plain":[
       "Unsupported"
      ]
     },
     "metadata":{
      
     },
     "output_type":"display_data"
    }
   ],
   "metadata":{
    "datalore":{
     "type":"CODE",
     "hide_input_from_viewers":false,
     "hide_output_from_viewers":false
    }
   }
  },
  {
   "cell_type":"markdown",
   "source":[
    "# Second day"
   ],
   "attachments":{
    
   },
   "metadata":{
    "datalore":{
     "type":"MD",
     "hide_input_from_viewers":false,
     "hide_output_from_viewers":false,
     "sheet_delimiter":true
    }
   }
  },
  {
   "cell_type":"code",
   "source":[
    "second_day = data.iloc[:, 32:61]\n",
    "second_day_variance_contribution, second_day_components, second_day_scores = (\n",
    "    principal_component_analysis(second_day, drop_columns=['combined1.2', 'combined2.2'])\n",
    ")"
   ],
   "execution_count":42,
   "outputs":[
    
   ],
   "metadata":{
    "datalore":{
     "type":"CODE",
     "hide_input_from_viewers":false,
     "hide_output_from_viewers":false
    }
   }
  },
  {
   "cell_type":"code",
   "source":[
    "second_day_variance_contribution"
   ],
   "execution_count":43,
   "outputs":[
    {
     "data":{
      "text\/html":[
       
      ]
     },
     "metadata":{
      
     },
     "output_type":"display_data"
    }
   ],
   "metadata":{
    "datalore":{
     "type":"CODE",
     "hide_input_from_viewers":false,
     "hide_output_from_viewers":false
    }
   }
  },
  {
   "cell_type":"code",
   "source":[
    "second_day_components"
   ],
   "execution_count":44,
   "outputs":[
    {
     "data":{
      "text\/html":[
       "<div>\n",
       "<style scoped>\n",
       "    .dataframe tbody tr th:only-of-type {\n",
       "        vertical-align: middle;\n",
       "    }\n",
       "\n",
       "    .dataframe tbody tr th {\n",
       "        vertical-align: top;\n",
       "    }\n",
       "\n",
       "    .dataframe thead th {\n",
       "        text-align: right;\n",
       "    }\n",
       "<\/style>\n",
       "<table border=\"1\" class=\"dataframe\">\n",
       "  <thead>\n",
       "    <tr style=\"text-align: right;\">\n",
       "      <th><\/th>\n",
       "      <th>0<\/th>\n",
       "      <th>1<\/th>\n",
       "      <th>2<\/th>\n",
       "    <\/tr>\n",
       "  <\/thead>\n",
       "  <tbody>\n",
       "    <tr>\n",
       "      <th>depressed.mood.2<\/th>\n",
       "      <td>9.950478e-02<\/td>\n",
       "      <td>0.244170<\/td>\n",
       "      <td>0.126563<\/td>\n",
       "    <\/tr>\n",
       "    <tr>\n",
       "      <th>anxiety.2<\/th>\n",
       "      <td>4.883331e-02<\/td>\n",
       "      <td>0.214816<\/td>\n",
       "      <td>-0.041591<\/td>\n",
       "    <\/tr>\n",
       "    <tr>\n",
       "      <th>suspiciousness.2<\/th>\n",
       "      <td>1.110223e-16<\/td>\n",
       "      <td>-0.000000<\/td>\n",
       "      <td>0.000000<\/td>\n",
       "    <\/tr>\n",
       "    <tr>\n",
       "      <th>irritability.2<\/th>\n",
       "      <td>1.244150e-01<\/td>\n",
       "      <td>0.083354<\/td>\n",
       "      <td>0.081061<\/td>\n",
       "    <\/tr>\n",
       "    <tr>\n",
       "      <th>craving.to.alcohol.2<\/th>\n",
       "      <td>9.850811e-02<\/td>\n",
       "      <td>0.285698<\/td>\n",
       "      <td>0.254724<\/td>\n",
       "    <\/tr>\n",
       "    <tr>\n",
       "      <th>weakness.2<\/th>\n",
       "      <td>2.143747e-01<\/td>\n",
       "      <td>0.148435<\/td>\n",
       "      <td>0.205371<\/td>\n",
       "    <\/tr>\n",
       "    <tr>\n",
       "      <th>insomia.2<\/th>\n",
       "      <td>1.526433e-01<\/td>\n",
       "      <td>0.066297<\/td>\n",
       "      <td>0.228830<\/td>\n",
       "    <\/tr>\n",
       "    <tr>\n",
       "      <th>headache.2<\/th>\n",
       "      <td>1.603263e-01<\/td>\n",
       "      <td>0.144200<\/td>\n",
       "      <td>-0.032720<\/td>\n",
       "    <\/tr>\n",
       "    <tr>\n",
       "      <th>tremor.2<\/th>\n",
       "      <td>2.272636e-01<\/td>\n",
       "      <td>0.059338<\/td>\n",
       "      <td>-0.106806<\/td>\n",
       "    <\/tr>\n",
       "    <tr>\n",
       "      <th>polyuria.2<\/th>\n",
       "      <td>1.610519e-01<\/td>\n",
       "      <td>0.119969<\/td>\n",
       "      <td>-0.111032<\/td>\n",
       "    <\/tr>\n",
       "    <tr>\n",
       "      <th>sweating.2<\/th>\n",
       "      <td>2.316163e-01<\/td>\n",
       "      <td>0.118414<\/td>\n",
       "      <td>-0.104254<\/td>\n",
       "    <\/tr>\n",
       "    <tr>\n",
       "      <th>transient.hallusinations.2<\/th>\n",
       "      <td>2.857596e-01<\/td>\n",
       "      <td>0.125651<\/td>\n",
       "      <td>-0.060102<\/td>\n",
       "    <\/tr>\n",
       "    <tr>\n",
       "      <th>vomiting.2<\/th>\n",
       "      <td>-5.847172e-02<\/td>\n",
       "      <td>0.052445<\/td>\n",
       "      <td>-0.323782<\/td>\n",
       "    <\/tr>\n",
       "    <tr>\n",
       "      <th>anoreksia.2<\/th>\n",
       "      <td>2.479338e-01<\/td>\n",
       "      <td>0.164734<\/td>\n",
       "      <td>0.194948<\/td>\n",
       "    <\/tr>\n",
       "    <tr>\n",
       "      <th>diarrhea.2<\/th>\n",
       "      <td>2.062987e-01<\/td>\n",
       "      <td>0.144016<\/td>\n",
       "      <td>0.051336<\/td>\n",
       "    <\/tr>\n",
       "    <tr>\n",
       "      <th>thirst.2<\/th>\n",
       "      <td>2.512164e-01<\/td>\n",
       "      <td>0.236980<\/td>\n",
       "      <td>0.079708<\/td>\n",
       "    <\/tr>\n",
       "    <tr>\n",
       "      <th>chest.pain.2<\/th>\n",
       "      <td>1.923202e-01<\/td>\n",
       "      <td>0.252288<\/td>\n",
       "      <td>-0.068369<\/td>\n",
       "    <\/tr>\n",
       "    <tr>\n",
       "      <th>hyperemia.2<\/th>\n",
       "      <td>1.397306e-01<\/td>\n",
       "      <td>0.002877<\/td>\n",
       "      <td>0.159074<\/td>\n",
       "    <\/tr>\n",
       "    <tr>\n",
       "      <th>HR.2<\/th>\n",
       "      <td>1.263421e-01<\/td>\n",
       "      <td>-0.006409<\/td>\n",
       "      <td>-0.298497<\/td>\n",
       "    <\/tr>\n",
       "    <tr>\n",
       "      <th>SBP.2<\/th>\n",
       "      <td>2.641232e-01<\/td>\n",
       "      <td>-0.026073<\/td>\n",
       "      <td>-0.350402<\/td>\n",
       "    <\/tr>\n",
       "    <tr>\n",
       "      <th>MBP.2<\/th>\n",
       "      <td>2.521179e-01<\/td>\n",
       "      <td>-0.140575<\/td>\n",
       "      <td>-0.354416<\/td>\n",
       "    <\/tr>\n",
       "    <tr>\n",
       "      <th>DBP.2<\/th>\n",
       "      <td>2.234979e-01<\/td>\n",
       "      <td>-0.163783<\/td>\n",
       "      <td>-0.343101<\/td>\n",
       "    <\/tr>\n",
       "    <tr>\n",
       "      <th>SV.2<\/th>\n",
       "      <td>-2.265011e-01<\/td>\n",
       "      <td>0.290229<\/td>\n",
       "      <td>-0.081651<\/td>\n",
       "    <\/tr>\n",
       "    <tr>\n",
       "      <th>CO.2<\/th>\n",
       "      <td>-1.929539e-01<\/td>\n",
       "      <td>0.341237<\/td>\n",
       "      <td>-0.224812<\/td>\n",
       "    <\/tr>\n",
       "    <tr>\n",
       "      <th>SI.2<\/th>\n",
       "      <td>-2.212599e-01<\/td>\n",
       "      <td>0.310928<\/td>\n",
       "      <td>-0.114282<\/td>\n",
       "    <\/tr>\n",
       "    <tr>\n",
       "      <th>CI.2<\/th>\n",
       "      <td>-1.811866e-01<\/td>\n",
       "      <td>0.334500<\/td>\n",
       "      <td>-0.249049<\/td>\n",
       "    <\/tr>\n",
       "    <tr>\n",
       "      <th>TPR.2<\/th>\n",
       "      <td>2.409392e-01<\/td>\n",
       "      <td>-0.289350<\/td>\n",
       "      <td>0.087505<\/td>\n",
       "    <\/tr>\n",
       "  <\/tbody>\n",
       "<\/table>\n",
       "<\/div>"
      ]
     },
     "metadata":{
      
     },
     "output_type":"display_data"
    }
   ],
   "metadata":{
    "datalore":{
     "type":"CODE",
     "hide_input_from_viewers":false,
     "hide_output_from_viewers":false
    }
   }
  },
  {
   "cell_type":"code",
   "source":[
    "second_day_components[abs(second_day_components[0]) > 0.22][0]"
   ],
   "execution_count":45,
   "outputs":[
    {
     "data":{
      "text\/html":[
       
      ]
     },
     "metadata":{
      
     },
     "output_type":"display_data"
    }
   ],
   "metadata":{
    "datalore":{
     "type":"CODE",
     "hide_input_from_viewers":false,
     "hide_output_from_viewers":false
    }
   }
  },
  {
   "cell_type":"code",
   "source":[
    "second_day_components[abs(second_day_components[1]) > 0.2][1]"
   ],
   "execution_count":46,
   "outputs":[
    {
     "data":{
      "text\/html":[
       
      ]
     },
     "metadata":{
      
     },
     "output_type":"display_data"
    }
   ],
   "metadata":{
    "datalore":{
     "type":"CODE",
     "hide_input_from_viewers":false,
     "hide_output_from_viewers":false
    }
   }
  },
  {
   "cell_type":"code",
   "source":[
    "second_day_components[abs(second_day_components[2]) > 0.2][2]"
   ],
   "execution_count":47,
   "outputs":[
    {
     "data":{
      "text\/html":[
       
      ]
     },
     "metadata":{
      
     },
     "output_type":"display_data"
    }
   ],
   "metadata":{
    "datalore":{
     "type":"CODE",
     "hide_input_from_viewers":false,
     "hide_output_from_viewers":false
    }
   }
  },
  {
   "cell_type":"code",
   "source":[
    "second_day_scores"
   ],
   "execution_count":48,
   "outputs":[
    {
     "data":{
      "text\/html":[
       
      ]
     },
     "metadata":{
      
     },
     "output_type":"display_data"
    }
   ],
   "metadata":{
    "datalore":{
     "type":"CODE",
     "hide_input_from_viewers":false,
     "hide_output_from_viewers":false
    }
   }
  },
  {
   "cell_type":"code",
   "source":[
    "compare_component_scores(second_day_scores, 0, 1)\n",
    "compare_component_scores(second_day_scores, 0, 2)"
   ],
   "execution_count":49,
   "outputs":[
    {
     "data":{
      "text\/plain":[
       "Unsupported"
      ]
     },
     "metadata":{
      
     },
     "output_type":"display_data"
    }
   ],
   "metadata":{
    "datalore":{
     "type":"CODE",
     "hide_input_from_viewers":false,
     "hide_output_from_viewers":false
    }
   }
  }
 ],
 "metadata":{
  "datalore":{
   "version":1,
   "computation_mode":"JUPYTER",
   "package_manager":"pip",
   "base_environment":"default",
   "packages":[
    
   ]
  }
 },
 "nbformat":4,
 "nbformat_minor":4
}