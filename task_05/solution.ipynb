{
 "cells": [
  {
   "cell_type": "markdown",
   "source": [
    "# Оценка влияния"
   ],
   "attachments": {},
   "metadata": {
    "datalore": {
     "type": "MD",
     "hide_input_from_viewers": false,
     "hide_output_from_viewers": false,
     "sheet_delimiter": true
    },
    "pycharm": {
     "name": "#%% md\n"
    }
   }
  },
  {
   "cell_type": "code",
   "source": [
    "from typing import Tuple, Optional, Dict, Callable, List\n",
    "\n",
    "import numpy as np\n",
    "import pandas as pd\n",
    "\n",
    "from sklearn.model_selection import train_test_split\n",
    "from sklearn.metrics import classification_report, confusion_matrix\n",
    "from sklearn.tree import DecisionTreeClassifier, export_graphviz"
   ],
   "execution_count": 1,
   "outputs": [],
   "metadata": {
    "datalore": {
     "type": "CODE",
     "hide_input_from_viewers": false,
     "hide_output_from_viewers": false
    },
    "pycharm": {
     "name": "#%%\n"
    }
   }
  },
  {
   "cell_type": "code",
   "source": [
    "def calculate_entropy(samples: np.ndarray):\n",
    "    samples = samples[samples != 0].astype(float)\n",
    "\n",
    "    probabilities = samples / samples.sum()\n",
    "\n",
    "    return -1 * (probabilities * np.log2(probabilities)).sum()"
   ],
   "execution_count": 2,
   "outputs": [],
   "metadata": {
    "datalore": {
     "type": "CODE",
     "hide_input_from_viewers": false,
     "hide_output_from_viewers": false
    },
    "pycharm": {
     "name": "#%%\n"
    }
   }
  },
  {
   "cell_type": "code",
   "source": [
    "def calculate_uncertainty(table: np.ndarray):\n",
    "    h_xy = calculate_entropy(table.flatten())\n",
    "    h_x = calculate_entropy(table.sum(axis=1))  # складываем все элементы в строке\n",
    "    h_y = calculate_entropy(table.sum(axis=0))  # складываем все элементы в столбцы\n",
    "\n",
    "    i = h_x + h_y - h_xy\n",
    "\n",
    "    return i / h_x * 100, i / h_y * 100, 2 * i / (h_x + h_y) * 100"
   ],
   "execution_count": 3,
   "outputs": [],
   "metadata": {
    "datalore": {
     "type": "CODE",
     "hide_input_from_viewers": false,
     "hide_output_from_viewers": false
    },
    "pycharm": {
     "name": "#%%\n"
    }
   }
  },
  {
   "cell_type": "code",
   "source": [
    "# craving.to.alcohol.1 -- depressed.mood.1\n",
    "# craving.to.alcohol.1 -- headache.1\n",
    "# craving.to.alcohol.1 -- weakness.1\n",
    "\n",
    "data = pd.read_csv('data_big.csv', index_col=0)\n",
    "\n",
    "z = data['headache.1'] + 3 * data['weakness.1'] + 2 * (data['depressed.mood.1'] - 1)\n",
    "\n",
    "crosstab = pd.crosstab(data['craving.to.alcohol.1'], z).to_numpy()\n",
    "print(crosstab)\n",
    "calculate_uncertainty(crosstab)"
   ],
   "execution_count": 4,
   "outputs": [
    {
     "name": "stdout",
     "text": [
      "[[0 1 1 3 4 2 0 1 0 0]\n",
      " [1 0 0 4 3 5 2 1 0 1]\n",
      " [0 0 0 1 0 2 0 0 1 1]]\n"
     ],
     "output_type": "stream"
    },
    {
     "data": {
      "text/plain": [
       "(28.23769864972048, 14.554127872724257, 19.208111005213784)"
      ]
     },
     "metadata": {},
     "output_type": "display_data"
    }
   ],
   "metadata": {
    "datalore": {
     "type": "CODE",
     "hide_input_from_viewers": false,
     "hide_output_from_viewers": false
    },
    "pycharm": {
     "name": "#%%\n"
    }
   }
  },
  {
   "cell_type": "markdown",
   "source": [
    "# Дерево классификации"
   ],
   "attachments": {},
   "metadata": {
    "datalore": {
     "type": "MD",
     "hide_input_from_viewers": false,
     "hide_output_from_viewers": false,
     "sheet_delimiter": true
    },
    "pycharm": {
     "name": "#%% md\n"
    }
   }
  },
  {
   "cell_type": "code",
   "source": [
    "Splitter = Tuple[str, float, float]"
   ],
   "execution_count": 5,
   "outputs": [],
   "metadata": {
    "datalore": {
     "type": "CODE",
     "hide_input_from_viewers": false,
     "hide_output_from_viewers": false
    },
    "pycharm": {
     "name": "#%%\n"
    }
   }
  },
  {
   "cell_type": "code",
   "source": [
    "def calculate_diversity_index(table: np.ndarray) -> float:\n",
    "    _, counts = np.unique(table, return_counts=True)\n",
    "    return counts.sum() * np.log(counts.sum()) - (counts * np.log(counts)).sum()\n",
    "\n",
    "\n",
    "def calculate_split_metric(first: pd.DataFrame, second: pd.DataFrame) -> float:\n",
    "    first_diversity = calculate_diversity_index(first.to_numpy())\n",
    "    second_diversity = calculate_diversity_index(second.to_numpy())\n",
    "    joint_diversity = calculate_diversity_index(pd.concat([first, second]).to_numpy())\n",
    "\n",
    "    return joint_diversity - first_diversity - second_diversity"
   ],
   "execution_count": 6,
   "outputs": [],
   "metadata": {
    "datalore": {
     "type": "CODE",
     "hide_input_from_viewers": false,
     "hide_output_from_viewers": false
    },
    "pycharm": {
     "name": "#%%\n"
    }
   }
  },
  {
   "cell_type": "code",
   "source": [
    "def get_best_splitter(X: pd.DataFrame, y: pd.DataFrame) -> Optional[Splitter]:\n",
    "    max_column = \"\"\n",
    "    max_average = 0\n",
    "    max_metric = 0\n",
    "    for column in X.columns:\n",
    "        unique = np.sort(X[column].unique())\n",
    "\n",
    "        for average in (unique[:-1] + unique[1:]) / 2:\n",
    "            left, right = X[X[column] < average].index, X[X[column] >= average].index\n",
    "\n",
    "            metric = calculate_split_metric(y[left], y[right])\n",
    "            if metric > max_metric:\n",
    "                max_metric = metric\n",
    "                max_average = average\n",
    "                max_column = column\n",
    "\n",
    "    if max_metric == 0:\n",
    "        return None\n",
    "\n",
    "    return (max_column, max_average, max_metric)"
   ],
   "execution_count": 7,
   "outputs": [],
   "metadata": {
    "datalore": {
     "type": "CODE",
     "hide_input_from_viewers": false,
     "hide_output_from_viewers": false
    },
    "pycharm": {
     "name": "#%%\n"
    }
   }
  },
  {
   "cell_type": "code",
   "source": [
    "class Node:\n",
    "    left: Optional['Node'] = None\n",
    "    right: Optional['Node'] = None\n",
    "\n",
    "    def __init__(\n",
    "            self,\n",
    "            classes: Dict[str, int],\n",
    "            column: Optional[str] = None,\n",
    "            value: Optional[float] = None,\n",
    "            metric: Optional[float] = None,\n",
    "    ):\n",
    "        self.column = column\n",
    "        self.value = value\n",
    "        self.classes = classes\n",
    "        self.metric = metric\n",
    "\n",
    "    def predict(self, attributes: pd.Series):\n",
    "        if self.left is None and self.right is None:\n",
    "            return max(self.classes, key=self.classes.get)\n",
    "\n",
    "        if attributes[self.column] < self.value:\n",
    "            return self.left.predict(attributes)\n",
    "\n",
    "        return self.right.predict(attributes)\n",
    "\n",
    "    def to_graphviz(self) -> Tuple[List[str], List[str]]:\n",
    "        nodes = []\n",
    "        transitions = []\n",
    "\n",
    "        dot_node = f'\"{hash(self)}\"'\n",
    "\n",
    "        if self.left is None and self.right is None:\n",
    "            nodes.append(f'{dot_node} [shape=record, label=\"{self.classes}\"]')\n",
    "            return (nodes, transitions)\n",
    "\n",
    "        nodes.append(\n",
    "            f'{dot_node} [shape=record, label=\"{{ {self.column} \\< {round(self.value, 4)} | metric={round(self.metric, 4)} | {self.classes} }}\"]'\n",
    "        )\n",
    "\n",
    "        if self.left is not None:\n",
    "            transitions.append(f'{dot_node} -> \"{hash(self.left)}\"')\n",
    "            left_nodes, left_transitions = self.left.to_graphviz()\n",
    "            nodes.extend(left_nodes)\n",
    "            transitions.extend(left_transitions)\n",
    "\n",
    "        if self.right is not None:\n",
    "            transitions.append(f'{dot_node} -> \"{hash(self.right)}\"')\n",
    "            right_nodes, right_transitions = self.right.to_graphviz()\n",
    "            nodes.extend(right_nodes)\n",
    "            transitions.extend(right_transitions)\n",
    "\n",
    "        return nodes, transitions"
   ],
   "execution_count": 8,
   "outputs": [],
   "metadata": {
    "datalore": {
     "type": "CODE",
     "hide_input_from_viewers": false,
     "hide_output_from_viewers": false
    },
    "pycharm": {
     "name": "#%%\n"
    }
   }
  },
  {
   "cell_type": "code",
   "source": [
    "class DecisionTree:\n",
    "    _root: Node\n",
    "\n",
    "    def fit(\n",
    "            self,\n",
    "            X: pd.DataFrame,\n",
    "            y: pd.DataFrame,\n",
    "            *,\n",
    "            max_depth: Optional[int] = None,\n",
    "            min_samples_split: int = 2,\n",
    "            min_samples_leaf: int = 1,\n",
    "    ):\n",
    "        if max_depth is None:\n",
    "            max_depth = len(X)\n",
    "\n",
    "        self._root = self._create_tree(X, y, max_depth, min_samples_split, min_samples_leaf)\n",
    "\n",
    "    def predict(self, X: pd.DataFrame):\n",
    "        return X.apply(lambda row: self._root.predict(row), axis=1)\n",
    "\n",
    "    @classmethod\n",
    "    def _create_tree(\n",
    "            cls,\n",
    "            X: pd.DataFrame,\n",
    "            y: pd.DataFrame,\n",
    "            remain_depth: int,\n",
    "            min_samples_split: int,\n",
    "            min_samples_leaf: int,\n",
    "    ) -> Optional[Node]:\n",
    "        if remain_depth < 0:\n",
    "            return None\n",
    "\n",
    "        classes = y.value_counts().to_dict()\n",
    "\n",
    "        if sum(classes.values()) < min_samples_leaf:\n",
    "            return None\n",
    "\n",
    "        best_splitter = get_best_splitter(X, y)\n",
    "        if best_splitter is None or sum(classes.values()) < min_samples_split:\n",
    "            return Node(classes)\n",
    "\n",
    "        column, value, metric = best_splitter\n",
    "        root = Node(classes, column, value, metric)\n",
    "\n",
    "        left_X, right_X = X[X[column] < value], X[X[column] >= value]\n",
    "        left_y, right_y = y[left_X.index], y[right_X.index]\n",
    "\n",
    "        left_subtree = cls._create_tree(left_X, left_y, remain_depth - 1, min_samples_split, min_samples_leaf)\n",
    "        if left_subtree is not None:\n",
    "            root.left = left_subtree\n",
    "\n",
    "        right_subtree = cls._create_tree(right_X, right_y, remain_depth - 1, min_samples_split, min_samples_leaf)\n",
    "        if right_subtree is not None:\n",
    "            root.right = right_subtree\n",
    "\n",
    "        if left_subtree is None or right_subtree is None:\n",
    "            return Node(classes)\n",
    "\n",
    "        return root\n",
    "\n",
    "    def export_graphviz(self) -> str:\n",
    "        dot = 'digraph {\\n'\n",
    "        if self._root is not None:\n",
    "            nodes, transitions = self._root.to_graphviz()\n",
    "            dot += '\\t'\n",
    "            dot += '\\n\\t'.join(nodes)\n",
    "            dot += '\\n\\n\\t'\n",
    "            dot += '\\n\\t'.join(transitions)\n",
    "            dot += '\\n'\n",
    "        dot += '}\\n'\n",
    "        return dot"
   ],
   "execution_count": 9,
   "outputs": [],
   "metadata": {
    "datalore": {
     "type": "CODE",
     "hide_input_from_viewers": false,
     "hide_output_from_viewers": false
    },
    "pycharm": {
     "name": "#%%\n"
    }
   }
  },
  {
   "cell_type": "markdown",
   "source": [
    "# Эксперименты с деревом"
   ],
   "attachments": {},
   "metadata": {
    "datalore": {
     "type": "MD",
     "hide_input_from_viewers": false,
     "hide_output_from_viewers": false,
     "sheet_delimiter": true
    },
    "pycharm": {
     "name": "#%% md\n"
    }
   }
  },
  {
   "cell_type": "code",
   "source": [
    "data = pd.DataFrame.from_dict({\n",
    "    'Moris': [15, 12, 10, 8, 17, 1, 13, 14, 3, 3, 1, 15, 13, 1, 13, 1, 15],\n",
    "    'TC': [29, 40, 52, 48, 53, 44, 51, 52, 26, 64, 22, 51, 52, 40, 78, 45, 57],\n",
    "    'TL': [38, 27, 30, 47, 69, 26, 33, 49, 30, 50, 30, 51, 39, 39, 46, 36, 39],\n",
    "    'class': [2, 2, 2, 1, 2, 1, 1, 1, 2, 1, 2, 2, 1, 2, 1, 2, 2]\n",
    "})"
   ],
   "execution_count": 10,
   "outputs": [],
   "metadata": {
    "datalore": {
     "type": "CODE",
     "hide_input_from_viewers": false,
     "hide_output_from_viewers": false
    },
    "pycharm": {
     "name": "#%%\n"
    }
   }
  },
  {
   "cell_type": "code",
   "source": [
    "clf = DecisionTree()\n",
    "clf.fit(data[['Moris', 'TC', 'TL']], data['class'], max_depth=2)\n",
    "print(clf.export_graphviz())"
   ],
   "execution_count": 11,
   "outputs": [
    {
     "name": "stdout",
     "text": [
      "digraph {\n",
      "\t\"8777272993464\" [shape=record, label=\"{ TC \\< 42.0 | metric=3.3671 | {2: 10, 1: 7} }\"]\n",
      "\t\"8777273004758\" [shape=record, label=\"{2: 5}\"]\n",
      "\t\"8777273004704\" [shape=record, label=\"{ Moris \\< 14.5 | metric=3.383 | {1: 7, 2: 5} }\"]\n",
      "\t\"8777316770247\" [shape=record, label=\"{1: 7, 2: 2}\"]\n",
      "\t\"8777316770154\" [shape=record, label=\"{2: 3}\"]\n",
      "\n",
      "\t\"8777272993464\" -> \"8777273004758\"\n",
      "\t\"8777272993464\" -> \"8777273004704\"\n",
      "\t\"8777273004704\" -> \"8777316770247\"\n",
      "\t\"8777273004704\" -> \"8777316770154\"\n",
      "}\n",
      "\n"
     ],
     "output_type": "stream"
    }
   ],
   "metadata": {
    "datalore": {
     "type": "CODE",
     "hide_input_from_viewers": false,
     "hide_output_from_viewers": false
    },
    "pycharm": {
     "name": "#%%\n"
    }
   }
  },
  {
   "cell_type": "code",
   "source": [
    "data = pd.read_csv('Maternal Health Risk Data Set.csv')\n",
    "data"
   ],
   "execution_count": 12,
   "outputs": [
    {
     "data": {
      "text/html": [
       "<div>\n",
       "<style scoped>\n",
       "    .dataframe tbody tr th:only-of-type {\n",
       "        vertical-align: middle;\n",
       "    }\n",
       "\n",
       "    .dataframe tbody tr th {\n",
       "        vertical-align: top;\n",
       "    }\n",
       "\n",
       "    .dataframe thead th {\n",
       "        text-align: right;\n",
       "    }\n",
       "</style>\n",
       "<table border=\"1\" class=\"dataframe\">\n",
       "  <thead>\n",
       "    <tr style=\"text-align: right;\">\n",
       "      <th></th>\n",
       "      <th>Age</th>\n",
       "      <th>SystolicBP</th>\n",
       "      <th>DiastolicBP</th>\n",
       "      <th>BS</th>\n",
       "      <th>BodyTemp</th>\n",
       "      <th>HeartRate</th>\n",
       "      <th>RiskLevel</th>\n",
       "    </tr>\n",
       "  </thead>\n",
       "  <tbody>\n",
       "    <tr>\n",
       "      <th>0</th>\n",
       "      <td>25</td>\n",
       "      <td>130</td>\n",
       "      <td>80</td>\n",
       "      <td>15.0</td>\n",
       "      <td>98.0</td>\n",
       "      <td>86</td>\n",
       "      <td>high risk</td>\n",
       "    </tr>\n",
       "    <tr>\n",
       "      <th>1</th>\n",
       "      <td>35</td>\n",
       "      <td>140</td>\n",
       "      <td>90</td>\n",
       "      <td>13.0</td>\n",
       "      <td>98.0</td>\n",
       "      <td>70</td>\n",
       "      <td>high risk</td>\n",
       "    </tr>\n",
       "    <tr>\n",
       "      <th>2</th>\n",
       "      <td>29</td>\n",
       "      <td>90</td>\n",
       "      <td>70</td>\n",
       "      <td>8.0</td>\n",
       "      <td>100.0</td>\n",
       "      <td>80</td>\n",
       "      <td>high risk</td>\n",
       "    </tr>\n",
       "    <tr>\n",
       "      <th>3</th>\n",
       "      <td>30</td>\n",
       "      <td>140</td>\n",
       "      <td>85</td>\n",
       "      <td>7.0</td>\n",
       "      <td>98.0</td>\n",
       "      <td>70</td>\n",
       "      <td>high risk</td>\n",
       "    </tr>\n",
       "    <tr>\n",
       "      <th>4</th>\n",
       "      <td>35</td>\n",
       "      <td>120</td>\n",
       "      <td>60</td>\n",
       "      <td>6.1</td>\n",
       "      <td>98.0</td>\n",
       "      <td>76</td>\n",
       "      <td>low risk</td>\n",
       "    </tr>\n",
       "    <tr>\n",
       "      <th>...</th>\n",
       "      <td>...</td>\n",
       "      <td>...</td>\n",
       "      <td>...</td>\n",
       "      <td>...</td>\n",
       "      <td>...</td>\n",
       "      <td>...</td>\n",
       "      <td>...</td>\n",
       "    </tr>\n",
       "    <tr>\n",
       "      <th>1009</th>\n",
       "      <td>22</td>\n",
       "      <td>120</td>\n",
       "      <td>60</td>\n",
       "      <td>15.0</td>\n",
       "      <td>98.0</td>\n",
       "      <td>80</td>\n",
       "      <td>high risk</td>\n",
       "    </tr>\n",
       "    <tr>\n",
       "      <th>1010</th>\n",
       "      <td>55</td>\n",
       "      <td>120</td>\n",
       "      <td>90</td>\n",
       "      <td>18.0</td>\n",
       "      <td>98.0</td>\n",
       "      <td>60</td>\n",
       "      <td>high risk</td>\n",
       "    </tr>\n",
       "    <tr>\n",
       "      <th>1011</th>\n",
       "      <td>35</td>\n",
       "      <td>85</td>\n",
       "      <td>60</td>\n",
       "      <td>19.0</td>\n",
       "      <td>98.0</td>\n",
       "      <td>86</td>\n",
       "      <td>high risk</td>\n",
       "    </tr>\n",
       "    <tr>\n",
       "      <th>1012</th>\n",
       "      <td>43</td>\n",
       "      <td>120</td>\n",
       "      <td>90</td>\n",
       "      <td>18.0</td>\n",
       "      <td>98.0</td>\n",
       "      <td>70</td>\n",
       "      <td>high risk</td>\n",
       "    </tr>\n",
       "    <tr>\n",
       "      <th>1013</th>\n",
       "      <td>32</td>\n",
       "      <td>120</td>\n",
       "      <td>65</td>\n",
       "      <td>6.0</td>\n",
       "      <td>101.0</td>\n",
       "      <td>76</td>\n",
       "      <td>mid risk</td>\n",
       "    </tr>\n",
       "  </tbody>\n",
       "</table>\n",
       "<p>1014 rows × 7 columns</p>\n",
       "</div>"
      ]
     },
     "metadata": {},
     "output_type": "display_data"
    }
   ],
   "metadata": {
    "datalore": {
     "type": "CODE",
     "hide_input_from_viewers": false,
     "hide_output_from_viewers": false
    },
    "pycharm": {
     "name": "#%%\n"
    }
   }
  },
  {
   "cell_type": "code",
   "source": [
    "x_columns = data.columns.to_list()\n",
    "x_columns.remove('RiskLevel')\n",
    "\n",
    "X_train, X_test, y_train, y_test = train_test_split(\n",
    "    data[x_columns], \n",
    "    data['RiskLevel'], \n",
    "    random_state=42,\n",
    ")"
   ],
   "execution_count": 13,
   "outputs": [],
   "metadata": {
    "datalore": {
     "type": "CODE",
     "hide_input_from_viewers": false,
     "hide_output_from_viewers": false
    },
    "pycharm": {
     "name": "#%%\n"
    }
   }
  },
  {
   "cell_type": "code",
   "source": [
    "clf = DecisionTree()\n",
    "clf.fit(X_train, y_train, min_samples_leaf=15, min_samples_split=80)\n",
    "print(clf.export_graphviz())"
   ],
   "execution_count": 14,
   "outputs": [
    {
     "name": "stdout",
     "text": [
      "digraph {\n",
      "\t\"8777273027639\" [shape=record, label=\"{ BS \\< 7.95 | metric=177.3193 | {'low risk': 304, 'mid risk': 241, 'high risk': 215} }\"]\n",
      "\t\"8777272981348\" [shape=record, label=\"{ SystolicBP \\< 132.5 | metric=69.4568 | {'low risk': 298, 'mid risk': 200, 'high risk': 58} }\"]\n",
      "\t\"8777272983959\" [shape=record, label=\"{ BodyTemp \\< 99.5 | metric=36.4813 | {'low risk': 298, 'mid risk': 197, 'high risk': 28} }\"]\n",
      "\t\"8777272986031\" [shape=record, label=\"{ SystolicBP \\< 125.0 | metric=23.6684 | {'low risk': 268, 'mid risk': 142, 'high risk': 6} }\"]\n",
      "\t\"8777272989073\" [shape=record, label=\"{ BS \\< 7.005 | metric=19.7314 | {'low risk': 268, 'mid risk': 121, 'high risk': 6} }\"]\n",
      "\t\"8777272991058\" [shape=record, label=\"{ HeartRate \\< 79.0 | metric=7.4385 | {'low risk': 119, 'mid risk': 94, 'high risk': 4} }\"]\n",
      "\t\"8777272960678\" [shape=record, label=\"{'low risk': 98, 'mid risk': 81}\"]\n",
      "\t\"8777272962027\" [shape=record, label=\"{'low risk': 21, 'mid risk': 13, 'high risk': 4}\"]\n",
      "\t\"8777272960371\" [shape=record, label=\"{ DiastolicBP \\< 78.0 | metric=5.7792 | {'low risk': 149, 'mid risk': 27, 'high risk': 2} }\"]\n",
      "\t\"8777272962033\" [shape=record, label=\"{'low risk': 64, 'mid risk': 3, 'high risk': 1}\"]\n",
      "\t\"8777272960753\" [shape=record, label=\"{ BS \\< 7.75 | metric=7.0102 | {'low risk': 85, 'mid risk': 24, 'high risk': 1} }\"]\n",
      "\t\"8777272963892\" [shape=record, label=\"{'low risk': 67, 'mid risk': 10}\"]\n",
      "\t\"8777272963262\" [shape=record, label=\"{'low risk': 18, 'mid risk': 14, 'high risk': 1}\"]\n",
      "\t\"8777272990404\" [shape=record, label=\"{'mid risk': 21}\"]\n",
      "\t\"8777272958877\" [shape=record, label=\"{ BodyTemp \\< 101.5 | metric=8.3483 | {'mid risk': 55, 'low risk': 30, 'high risk': 22} }\"]\n",
      "\t\"8777272989094\" [shape=record, label=\"{'mid risk': 44, 'low risk': 12, 'high risk': 10}\"]\n",
      "\t\"8777272990992\" [shape=record, label=\"{'low risk': 18, 'high risk': 12, 'mid risk': 11}\"]\n",
      "\t\"8777272985236\" [shape=record, label=\"{'high risk': 30, 'mid risk': 3}\"]\n",
      "\t\"8777272983013\" [shape=record, label=\"{ SystolicBP \\< 135.0 | metric=25.0502 | {'high risk': 157, 'mid risk': 41, 'low risk': 6} }\"]\n",
      "\t\"8777272985221\" [shape=record, label=\"{ BS \\< 9.5 | metric=7.0434 | {'high risk': 83, 'mid risk': 41, 'low risk': 6} }\"]\n",
      "\t\"8777272985983\" [shape=record, label=\"{'mid risk': 17, 'high risk': 13, 'low risk': 4}\"]\n",
      "\t\"8777272985905\" [shape=record, label=\"{ Age \\< 41.0 | metric=12.9835 | {'high risk': 70, 'mid risk': 24, 'low risk': 2} }\"]\n",
      "\t\"8777272989004\" [shape=record, label=\"{'high risk': 39, 'mid risk': 1}\"]\n",
      "\t\"8777272991010\" [shape=record, label=\"{'high risk': 31, 'mid risk': 23, 'low risk': 2}\"]\n",
      "\t\"8777272989956\" [shape=record, label=\"{'high risk': 74}\"]\n",
      "\n",
      "\t\"8777273027639\" -> \"8777272981348\"\n",
      "\t\"8777272981348\" -> \"8777272983959\"\n",
      "\t\"8777272983959\" -> \"8777272986031\"\n",
      "\t\"8777272986031\" -> \"8777272989073\"\n",
      "\t\"8777272989073\" -> \"8777272991058\"\n",
      "\t\"8777272991058\" -> \"8777272960678\"\n",
      "\t\"8777272991058\" -> \"8777272962027\"\n",
      "\t\"8777272989073\" -> \"8777272960371\"\n",
      "\t\"8777272960371\" -> \"8777272962033\"\n",
      "\t\"8777272960371\" -> \"8777272960753\"\n",
      "\t\"8777272960753\" -> \"8777272963892\"\n",
      "\t\"8777272960753\" -> \"8777272963262\"\n",
      "\t\"8777272986031\" -> \"8777272990404\"\n",
      "\t\"8777272983959\" -> \"8777272958877\"\n",
      "\t\"8777272958877\" -> \"8777272989094\"\n",
      "\t\"8777272958877\" -> \"8777272990992\"\n",
      "\t\"8777272981348\" -> \"8777272985236\"\n",
      "\t\"8777273027639\" -> \"8777272983013\"\n",
      "\t\"8777272983013\" -> \"8777272985221\"\n",
      "\t\"8777272985221\" -> \"8777272985983\"\n",
      "\t\"8777272985221\" -> \"8777272985905\"\n",
      "\t\"8777272985905\" -> \"8777272989004\"\n",
      "\t\"8777272985905\" -> \"8777272991010\"\n",
      "\t\"8777272983013\" -> \"8777272989956\"\n",
      "}\n",
      "\n"
     ],
     "output_type": "stream"
    }
   ],
   "metadata": {
    "datalore": {
     "type": "CODE",
     "hide_input_from_viewers": false,
     "hide_output_from_viewers": false
    },
    "pycharm": {
     "name": "#%%\n"
    }
   }
  },
  {
   "cell_type": "code",
   "source": [
    "print(confusion_matrix(y_test, clf.predict(X_test), labels=['low risk', 'mid risk', 'high risk']))\n",
    "print(classification_report(y_test, clf.predict(X_test)))"
   ],
   "execution_count": 15,
   "outputs": [
    {
     "name": "stdout",
     "text": [
      "[[95  5  2]\n",
      " [54 31 10]\n",
      " [ 6  5 46]]\n",
      "              precision    recall  f1-score   support\n",
      "\n",
      "   high risk       0.79      0.81      0.80        57\n",
      "    low risk       0.61      0.93      0.74       102\n",
      "    mid risk       0.76      0.33      0.46        95\n",
      "\n",
      "    accuracy                           0.68       254\n",
      "   macro avg       0.72      0.69      0.67       254\n",
      "weighted avg       0.71      0.68      0.65       254\n",
      "\n"
     ],
     "output_type": "stream"
    }
   ],
   "metadata": {
    "datalore": {
     "type": "CODE",
     "hide_input_from_viewers": false,
     "hide_output_from_viewers": false
    },
    "pycharm": {
     "name": "#%%\n"
    }
   }
  },
  {
   "cell_type": "code",
   "source": [
    "clf = DecisionTreeClassifier(min_samples_leaf=20, max_depth=7)\n",
    "clf.fit(X_train, y_train)\n",
    "print(confusion_matrix(y_test, clf.predict(X_test), labels=['low risk', 'mid risk', 'high risk']))\n",
    "print(classification_report(y_test, clf.predict(X_test)))\n",
    "print(export_graphviz(clf, feature_names=clf.feature_names_in_))"
   ],
   "execution_count": 16,
   "outputs": [
    {
     "name": "stdout",
     "text": [
      "[[73 27  2]\n",
      " [28 54 13]\n",
      " [ 4  7 46]]\n",
      "              precision    recall  f1-score   support\n",
      "\n",
      "   high risk       0.75      0.81      0.78        57\n",
      "    low risk       0.70      0.72      0.71       102\n",
      "    mid risk       0.61      0.57      0.59        95\n",
      "\n",
      "    accuracy                           0.68       254\n",
      "   macro avg       0.69      0.70      0.69       254\n",
      "weighted avg       0.68      0.68      0.68       254\n",
      "\n",
      "digraph Tree {\n",
      "node [shape=box, fontname=\"helvetica\"] ;\n",
      "edge [fontname=\"helvetica\"] ;\n",
      "0 [label=\"BS <= 7.95\\ngini = 0.659\\nsamples = 760\\nvalue = [215, 304, 241]\"] ;\n",
      "1 [label=\"SystolicBP <= 132.5\\ngini = 0.572\\nsamples = 556\\nvalue = [58, 298, 200]\"] ;\n",
      "0 -> 1 [labeldistance=2.5, labelangle=45, headlabel=\"True\"] ;\n",
      "2 [label=\"BS <= 7.055\\ngini = 0.531\\nsamples = 523\\nvalue = [28, 298, 197]\"] ;\n",
      "1 -> 2 ;\n",
      "3 [label=\"BodyTemp <= 99.5\\ngini = 0.544\\nsamples = 286\\nvalue = [14, 130, 142]\"] ;\n",
      "2 -> 3 ;\n",
      "4 [label=\"Age <= 15.5\\ngini = 0.515\\nsamples = 231\\nvalue = [4, 121, 106]\"] ;\n",
      "3 -> 4 ;\n",
      "5 [label=\"HeartRate <= 76.5\\ngini = 0.375\\nsamples = 40\\nvalue = [0, 30, 10]\"] ;\n",
      "4 -> 5 ;\n",
      "6 [label=\"gini = 0.48\\nsamples = 20\\nvalue = [0, 12, 8]\"] ;\n",
      "5 -> 6 ;\n",
      "7 [label=\"gini = 0.18\\nsamples = 20\\nvalue = [0, 18, 2]\"] ;\n",
      "5 -> 7 ;\n",
      "8 [label=\"BS <= 6.55\\ngini = 0.52\\nsamples = 191\\nvalue = [4, 91, 96]\"] ;\n",
      "4 -> 8 ;\n",
      "9 [label=\"DiastolicBP <= 62.5\\ngini = 0.422\\nsamples = 43\\nvalue = [0, 30, 13]\"] ;\n",
      "8 -> 9 ;\n",
      "10 [label=\"gini = 0.5\\nsamples = 22\\nvalue = [0, 11, 11]\"] ;\n",
      "9 -> 10 ;\n",
      "11 [label=\"gini = 0.172\\nsamples = 21\\nvalue = [0, 19, 2]\"] ;\n",
      "9 -> 11 ;\n",
      "12 [label=\"DiastolicBP <= 82.5\\ngini = 0.515\\nsamples = 148\\nvalue = [4, 61, 83]\"] ;\n",
      "8 -> 12 ;\n",
      "13 [label=\"gini = 0.485\\nsamples = 115\\nvalue = [2, 42, 71]\"] ;\n",
      "12 -> 13 ;\n",
      "14 [label=\"gini = 0.533\\nsamples = 33\\nvalue = [2, 19, 12]\"] ;\n",
      "12 -> 14 ;\n",
      "15 [label=\"Age <= 17.5\\ngini = 0.512\\nsamples = 55\\nvalue = [10, 9, 36]\"] ;\n",
      "3 -> 15 ;\n",
      "16 [label=\"gini = 0.58\\nsamples = 21\\nvalue = [10, 2, 9]\"] ;\n",
      "15 -> 16 ;\n",
      "17 [label=\"gini = 0.327\\nsamples = 34\\nvalue = [0, 7, 27]\"] ;\n",
      "15 -> 17 ;\n",
      "18 [label=\"BodyTemp <= 99.0\\ngini = 0.44\\nsamples = 237\\nvalue = [14, 168, 55]\"] ;\n",
      "2 -> 18 ;\n",
      "19 [label=\"SystolicBP <= 105.0\\ngini = 0.331\\nsamples = 185\\nvalue = [2, 147, 36]\"] ;\n",
      "18 -> 19 ;\n",
      "20 [label=\"Age <= 21.5\\ngini = 0.092\\nsamples = 62\\nvalue = [0, 59, 3]\"] ;\n",
      "19 -> 20 ;\n",
      "21 [label=\"gini = 0.0\\nsamples = 28\\nvalue = [0, 28, 0]\"] ;\n",
      "20 -> 21 ;\n",
      "22 [label=\"gini = 0.161\\nsamples = 34\\nvalue = [0, 31, 3]\"] ;\n",
      "20 -> 22 ;\n",
      "23 [label=\"HeartRate <= 77.5\\ngini = 0.416\\nsamples = 123\\nvalue = [2, 88, 33]\"] ;\n",
      "19 -> 23 ;\n",
      "24 [label=\"BS <= 7.75\\ngini = 0.342\\nsamples = 99\\nvalue = [2, 78, 19]\"] ;\n",
      "23 -> 24 ;\n",
      "25 [label=\"gini = 0.219\\nsamples = 65\\nvalue = [1, 57, 7]\"] ;\n",
      "24 -> 25 ;\n",
      "26 [label=\"gini = 0.493\\nsamples = 34\\nvalue = [1, 21, 12]\"] ;\n",
      "24 -> 26 ;\n",
      "27 [label=\"gini = 0.486\\nsamples = 24\\nvalue = [0, 10, 14]\"] ;\n",
      "23 -> 27 ;\n",
      "28 [label=\"BS <= 7.6\\ngini = 0.65\\nsamples = 52\\nvalue = [12, 21, 19]\"] ;\n",
      "18 -> 28 ;\n",
      "29 [label=\"gini = 0.58\\nsamples = 30\\nvalue = [5, 17, 8]\"] ;\n",
      "28 -> 29 ;\n",
      "30 [label=\"gini = 0.616\\nsamples = 22\\nvalue = [7, 4, 11]\"] ;\n",
      "28 -> 30 ;\n",
      "31 [label=\"gini = 0.165\\nsamples = 33\\nvalue = [30, 0, 3]\"] ;\n",
      "1 -> 31 ;\n",
      "32 [label=\"SystolicBP <= 135.0\\ngini = 0.366\\nsamples = 204\\nvalue = [157, 6, 41]\"] ;\n",
      "0 -> 32 [labeldistance=2.5, labelangle=-45, headlabel=\"False\"] ;\n",
      "33 [label=\"BS <= 9.5\\ngini = 0.491\\nsamples = 130\\nvalue = [83, 6, 41]\"] ;\n",
      "32 -> 33 ;\n",
      "34 [label=\"gini = 0.59\\nsamples = 34\\nvalue = [13, 4, 17]\"] ;\n",
      "33 -> 34 ;\n",
      "35 [label=\"Age <= 41.0\\ngini = 0.405\\nsamples = 96\\nvalue = [70, 2, 24]\"] ;\n",
      "33 -> 35 ;\n",
      "36 [label=\"Age <= 34.5\\ngini = 0.049\\nsamples = 40\\nvalue = [39, 0, 1]\"] ;\n",
      "35 -> 36 ;\n",
      "37 [label=\"gini = 0.0\\nsamples = 20\\nvalue = [20, 0, 0]\"] ;\n",
      "36 -> 37 ;\n",
      "38 [label=\"gini = 0.095\\nsamples = 20\\nvalue = [19, 0, 1]\"] ;\n",
      "36 -> 38 ;\n",
      "39 [label=\"HeartRate <= 72.5\\ngini = 0.524\\nsamples = 56\\nvalue = [31, 2, 23]\"] ;\n",
      "35 -> 39 ;\n",
      "40 [label=\"gini = 0.5\\nsamples = 22\\nvalue = [11, 0, 11]\"] ;\n",
      "39 -> 40 ;\n",
      "41 [label=\"gini = 0.526\\nsamples = 34\\nvalue = [20, 2, 12]\"] ;\n",
      "39 -> 41 ;\n",
      "42 [label=\"gini = 0.0\\nsamples = 74\\nvalue = [74, 0, 0]\"] ;\n",
      "32 -> 42 ;\n",
      "}\n"
     ],
     "output_type": "stream"
    }
   ],
   "metadata": {
    "datalore": {
     "type": "CODE",
     "hide_input_from_viewers": false,
     "hide_output_from_viewers": false
    },
    "pycharm": {
     "name": "#%%\n"
    }
   }
  }
 ],
 "metadata": {
  "datalore": {
   "version": 1,
   "computation_mode": "JUPYTER",
   "package_manager": "pip",
   "base_environment": "default",
   "packages": []
  }
 },
 "nbformat": 4,
 "nbformat_minor": 4
}